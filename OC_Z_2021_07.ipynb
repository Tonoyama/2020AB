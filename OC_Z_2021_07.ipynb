{
  "nbformat": 4,
  "nbformat_minor": 0,
  "metadata": {
    "colab": {
      "name": "OC-Z-2021-07.ipynb ",
      "provenance": [],
      "collapsed_sections": [],
      "include_colab_link": true
    },
    "kernelspec": {
      "name": "python3",
      "display_name": "Python 3"
    },
    "language_info": {
      "name": "python"
    }
  },
  "cells": [
    {
      "cell_type": "markdown",
      "metadata": {
        "id": "view-in-github",
        "colab_type": "text"
      },
      "source": [
        "<a href=\"https://colab.research.google.com/github/Tonoyama/2020AB/blob/master/OC_Z_2021_07.ipynb\" target=\"_parent\"><img src=\"https://colab.research.google.com/assets/colab-badge.svg\" alt=\"Open In Colab\"/></a>"
      ]
    },
    {
      "cell_type": "markdown",
      "metadata": {
        "id": "g4CvdOjMOL8Q"
      },
      "source": [
        "# Z 号館 2021-07-05 のデータ可視化"
      ]
    },
    {
      "cell_type": "markdown",
      "metadata": {
        "id": "4JVxMSeYOaYg"
      },
      "source": [
        "## ライブラリのダウンロードとインポート"
      ]
    },
    {
      "cell_type": "code",
      "metadata": {
        "colab": {
          "base_uri": "https://localhost:8080/"
        },
        "id": "yjQl6FrSLxlO",
        "outputId": "bf63711e-18d3-45ef-aba8-e045ae6bb4e0"
      },
      "source": [
        "!pip install --upgrade plotly\n",
        "!pip install japanize_matplotlib"
      ],
      "execution_count": null,
      "outputs": [
        {
          "output_type": "stream",
          "text": [
            "Collecting plotly\n",
            "\u001b[?25l  Downloading https://files.pythonhosted.org/packages/95/8d/ac1560f7ccc2ace85cd1e9619bbec1975b5d2d92e6c6fdbbdaa994c6ab4d/plotly-5.1.0-py2.py3-none-any.whl (20.6MB)\n",
            "\u001b[K     |████████████████████████████████| 20.6MB 137kB/s \n",
            "\u001b[?25hRequirement already satisfied, skipping upgrade: six in /usr/local/lib/python3.7/dist-packages (from plotly) (1.15.0)\n",
            "Collecting tenacity>=6.2.0\n",
            "  Downloading https://files.pythonhosted.org/packages/d8/f7/dcafcff418087f0f3de47431ef7504efd11a585086419ce1872af9bdf2a7/tenacity-8.0.0-py3-none-any.whl\n",
            "Installing collected packages: tenacity, plotly\n",
            "  Found existing installation: plotly 4.4.1\n",
            "    Uninstalling plotly-4.4.1:\n",
            "      Successfully uninstalled plotly-4.4.1\n",
            "Successfully installed plotly-5.1.0 tenacity-8.0.0\n",
            "Collecting japanize_matplotlib\n",
            "\u001b[?25l  Downloading https://files.pythonhosted.org/packages/aa/85/08a4b7fe8987582d99d9bb7ad0ff1ec75439359a7f9690a0dbf2dbf98b15/japanize-matplotlib-1.1.3.tar.gz (4.1MB)\n",
            "\u001b[K     |████████████████████████████████| 4.1MB 4.0MB/s \n",
            "\u001b[?25hRequirement already satisfied: matplotlib in /usr/local/lib/python3.7/dist-packages (from japanize_matplotlib) (3.2.2)\n",
            "Requirement already satisfied: numpy>=1.11 in /usr/local/lib/python3.7/dist-packages (from matplotlib->japanize_matplotlib) (1.19.5)\n",
            "Requirement already satisfied: cycler>=0.10 in /usr/local/lib/python3.7/dist-packages (from matplotlib->japanize_matplotlib) (0.10.0)\n",
            "Requirement already satisfied: kiwisolver>=1.0.1 in /usr/local/lib/python3.7/dist-packages (from matplotlib->japanize_matplotlib) (1.3.1)\n",
            "Requirement already satisfied: python-dateutil>=2.1 in /usr/local/lib/python3.7/dist-packages (from matplotlib->japanize_matplotlib) (2.8.1)\n",
            "Requirement already satisfied: pyparsing!=2.0.4,!=2.1.2,!=2.1.6,>=2.0.1 in /usr/local/lib/python3.7/dist-packages (from matplotlib->japanize_matplotlib) (2.4.7)\n",
            "Requirement already satisfied: six in /usr/local/lib/python3.7/dist-packages (from cycler>=0.10->matplotlib->japanize_matplotlib) (1.15.0)\n",
            "Building wheels for collected packages: japanize-matplotlib\n",
            "  Building wheel for japanize-matplotlib (setup.py) ... \u001b[?25l\u001b[?25hdone\n",
            "  Created wheel for japanize-matplotlib: filename=japanize_matplotlib-1.1.3-cp37-none-any.whl size=4120276 sha256=3d7fed3d8ad0a8644e1c9db2b3d3ac273d140d4cfe6c8eb6ac904e4054031c4b\n",
            "  Stored in directory: /root/.cache/pip/wheels/b7/d9/a2/f907d50b32a2d2008ce5d691d30fb6569c2c93eefcfde55202\n",
            "Successfully built japanize-matplotlib\n",
            "Installing collected packages: japanize-matplotlib\n",
            "Successfully installed japanize-matplotlib-1.1.3\n"
          ],
          "name": "stdout"
        }
      ]
    },
    {
      "cell_type": "code",
      "metadata": {
        "id": "zAP8JallMLV2"
      },
      "source": [
        "import plotly.express as px\n",
        "import plotly.figure_factory as ff\n",
        "import plotly.graph_objects as go\n",
        "from plotly.subplots import make_subplots\n",
        "import numpy as np\n",
        "import pandas as pd\n",
        "import matplotlib.pyplot as plt\n",
        "import datetime as dt\n",
        "import seaborn as sns\n",
        "import japanize_matplotlib \n",
        "import seaborn as sns\n",
        "\n",
        "sns.set(font=\"IPAexGothic\")"
      ],
      "execution_count": null,
      "outputs": []
    },
    {
      "cell_type": "markdown",
      "metadata": {
        "id": "tScZKD-GMQWg"
      },
      "source": [
        "## データのダウンロードと整形\n"
      ]
    },
    {
      "cell_type": "markdown",
      "metadata": {
        "id": "_4ID8gYFVvQ2"
      },
      "source": [
        "### Web サーバの取得データ(**`df_rasp`**)\n",
        "\n",
        "\n",
        "2台の Raspberry Pi から受け取ったデータは、 Web サーバ内で和集合し重複を削除している。線形回帰で調整はしていない。"
      ]
    },
    {
      "cell_type": "code",
      "metadata": {
        "colab": {
          "base_uri": "https://localhost:8080/",
          "height": 414
        },
        "id": "5pSNPjvHwLfu",
        "outputId": "a8fdc175-5eeb-4f65-fbe5-68e17f4f7dd1"
      },
      "source": [
        "df_rasp_07 = pd.read_csv(\"2021-07-07.csv\")\n",
        "df_rasp_07"
      ],
      "execution_count": null,
      "outputs": [
        {
          "output_type": "execute_result",
          "data": {
            "text/html": [
              "<div>\n",
              "<style scoped>\n",
              "    .dataframe tbody tr th:only-of-type {\n",
              "        vertical-align: middle;\n",
              "    }\n",
              "\n",
              "    .dataframe tbody tr th {\n",
              "        vertical-align: top;\n",
              "    }\n",
              "\n",
              "    .dataframe thead th {\n",
              "        text-align: right;\n",
              "    }\n",
              "</style>\n",
              "<table border=\"1\" class=\"dataframe\">\n",
              "  <thead>\n",
              "    <tr style=\"text-align: right;\">\n",
              "      <th></th>\n",
              "      <th>date</th>\n",
              "      <th>z</th>\n",
              "    </tr>\n",
              "  </thead>\n",
              "  <tbody>\n",
              "    <tr>\n",
              "      <th>0</th>\n",
              "      <td>2021-07-07 10:50:06</td>\n",
              "      <td>72</td>\n",
              "    </tr>\n",
              "    <tr>\n",
              "      <th>1</th>\n",
              "      <td>2021-07-07 10:50:15</td>\n",
              "      <td>72</td>\n",
              "    </tr>\n",
              "    <tr>\n",
              "      <th>2</th>\n",
              "      <td>2021-07-07 10:50:26</td>\n",
              "      <td>72</td>\n",
              "    </tr>\n",
              "    <tr>\n",
              "      <th>3</th>\n",
              "      <td>2021-07-07 10:50:34</td>\n",
              "      <td>72</td>\n",
              "    </tr>\n",
              "    <tr>\n",
              "      <th>4</th>\n",
              "      <td>2021-07-07 10:50:47</td>\n",
              "      <td>72</td>\n",
              "    </tr>\n",
              "    <tr>\n",
              "      <th>...</th>\n",
              "      <td>...</td>\n",
              "      <td>...</td>\n",
              "    </tr>\n",
              "    <tr>\n",
              "      <th>614</th>\n",
              "      <td>2021-07-07 13:44:26</td>\n",
              "      <td>66</td>\n",
              "    </tr>\n",
              "    <tr>\n",
              "      <th>615</th>\n",
              "      <td>2021-07-07 13:44:46</td>\n",
              "      <td>66</td>\n",
              "    </tr>\n",
              "    <tr>\n",
              "      <th>616</th>\n",
              "      <td>2021-07-07 13:45:06</td>\n",
              "      <td>55</td>\n",
              "    </tr>\n",
              "    <tr>\n",
              "      <th>617</th>\n",
              "      <td>2021-07-07 13:45:26</td>\n",
              "      <td>55</td>\n",
              "    </tr>\n",
              "    <tr>\n",
              "      <th>618</th>\n",
              "      <td>2021-07-07 13:45:46</td>\n",
              "      <td>55</td>\n",
              "    </tr>\n",
              "  </tbody>\n",
              "</table>\n",
              "<p>619 rows × 2 columns</p>\n",
              "</div>"
            ],
            "text/plain": [
              "                    date   z\n",
              "0    2021-07-07 10:50:06  72\n",
              "1    2021-07-07 10:50:15  72\n",
              "2    2021-07-07 10:50:26  72\n",
              "3    2021-07-07 10:50:34  72\n",
              "4    2021-07-07 10:50:47  72\n",
              "..                   ...  ..\n",
              "614  2021-07-07 13:44:26  66\n",
              "615  2021-07-07 13:44:46  66\n",
              "616  2021-07-07 13:45:06  55\n",
              "617  2021-07-07 13:45:26  55\n",
              "618  2021-07-07 13:45:46  55\n",
              "\n",
              "[619 rows x 2 columns]"
            ]
          },
          "metadata": {
            "tags": []
          },
          "execution_count": 3
        }
      ]
    },
    {
      "cell_type": "markdown",
      "metadata": {
        "id": "AEU5vj9BYG2I"
      },
      "source": [
        "列 `z` は Z 号館の列だが、まだ計測していないため、削除する。\n",
        "\n",
        "1~3行目まで初期値の `999` が入っているので削除する。"
      ]
    },
    {
      "cell_type": "code",
      "metadata": {
        "colab": {
          "base_uri": "https://localhost:8080/"
        },
        "id": "66mYVZmXZU2f",
        "outputId": "28d24e4d-d66a-4681-8135-9a90820b566d"
      },
      "source": [
        "import datetime\n",
        "\n",
        "# datetime 型に変換\n",
        "df_rasp_07[\"date\"] = pd.to_datetime(df_rasp_07[\"date\"])\n",
        "\n",
        "# 1分間にまとめる\n",
        "df_rasp_07 = df_rasp_07.groupby(pd.Grouper(key='date', freq='1min')).mean().reset_index()\n",
        "\n",
        "# date をインデックスにする\n",
        "df_rasp_07 = df_rasp_07.set_index(\"date\")\n",
        "\n",
        "\n",
        "# 10:50 ~ 12:45までを抽出\n",
        "df_rasp_07 = df_rasp_07[\"2021-07-07 10:50:00\":\"2021-07-07 12:45:00\"]\n",
        "\n",
        "\n",
        "print(df_rasp_07)\n"
      ],
      "execution_count": null,
      "outputs": [
        {
          "output_type": "stream",
          "text": [
            "                       z\n",
            "date                    \n",
            "2021-07-07 10:50:00   72\n",
            "2021-07-07 10:51:00   71\n",
            "2021-07-07 10:52:00   79\n",
            "2021-07-07 10:53:00   75\n",
            "2021-07-07 10:54:00   70\n",
            "...                  ...\n",
            "2021-07-07 12:41:00  134\n",
            "2021-07-07 12:42:00  138\n",
            "2021-07-07 12:43:00  131\n",
            "2021-07-07 12:44:00  139\n",
            "2021-07-07 12:45:00  144\n",
            "\n",
            "[116 rows x 1 columns]\n"
          ],
          "name": "stdout"
        }
      ]
    },
    {
      "cell_type": "markdown",
      "metadata": {
        "id": "4uyJWkAtgO8p"
      },
      "source": [
        "### Z 号館エレベータ入り口(**`df_main`**)(メイン)\n",
        "\n",
        "Z 号館で最も多く出入りする入り口。計測当日は、行列ができた。"
      ]
    },
    {
      "cell_type": "code",
      "metadata": {
        "colab": {
          "base_uri": "https://localhost:8080/",
          "height": 445
        },
        "id": "UK1YcDZIgwou",
        "outputId": "015a228b-09c8-4efb-c9ec-ef6198974972"
      },
      "source": [
        "df_main = pd.read_csv(\"z_main_people_dataset.csv\")\n",
        "\n",
        "df_main = df_main.set_index('時刻')\n",
        "\n",
        "df_main = df_main.fillna(0)\n",
        "\n",
        "df_main"
      ],
      "execution_count": null,
      "outputs": [
        {
          "output_type": "execute_result",
          "data": {
            "text/html": [
              "<div>\n",
              "<style scoped>\n",
              "    .dataframe tbody tr th:only-of-type {\n",
              "        vertical-align: middle;\n",
              "    }\n",
              "\n",
              "    .dataframe tbody tr th {\n",
              "        vertical-align: top;\n",
              "    }\n",
              "\n",
              "    .dataframe thead th {\n",
              "        text-align: right;\n",
              "    }\n",
              "</style>\n",
              "<table border=\"1\" class=\"dataframe\">\n",
              "  <thead>\n",
              "    <tr style=\"text-align: right;\">\n",
              "      <th></th>\n",
              "      <th>05_main_entry</th>\n",
              "      <th>05_main_exit</th>\n",
              "      <th>06_main_entry</th>\n",
              "      <th>06_main_exit</th>\n",
              "      <th>07_main_entry</th>\n",
              "      <th>07_main_exit</th>\n",
              "    </tr>\n",
              "    <tr>\n",
              "      <th>時刻</th>\n",
              "      <th></th>\n",
              "      <th></th>\n",
              "      <th></th>\n",
              "      <th></th>\n",
              "      <th></th>\n",
              "      <th></th>\n",
              "    </tr>\n",
              "  </thead>\n",
              "  <tbody>\n",
              "    <tr>\n",
              "      <th>10:50:00</th>\n",
              "      <td>0</td>\n",
              "      <td>0</td>\n",
              "      <td>0</td>\n",
              "      <td>0</td>\n",
              "      <td>0</td>\n",
              "      <td>0</td>\n",
              "    </tr>\n",
              "    <tr>\n",
              "      <th>10:51:00</th>\n",
              "      <td>0</td>\n",
              "      <td>0</td>\n",
              "      <td>0</td>\n",
              "      <td>0</td>\n",
              "      <td>0</td>\n",
              "      <td>0</td>\n",
              "    </tr>\n",
              "    <tr>\n",
              "      <th>10:52:00</th>\n",
              "      <td>0</td>\n",
              "      <td>0</td>\n",
              "      <td>0</td>\n",
              "      <td>0</td>\n",
              "      <td>0</td>\n",
              "      <td>0</td>\n",
              "    </tr>\n",
              "    <tr>\n",
              "      <th>10:53:00</th>\n",
              "      <td>0</td>\n",
              "      <td>0</td>\n",
              "      <td>0</td>\n",
              "      <td>0</td>\n",
              "      <td>0</td>\n",
              "      <td>0</td>\n",
              "    </tr>\n",
              "    <tr>\n",
              "      <th>10:54:00</th>\n",
              "      <td>0</td>\n",
              "      <td>0</td>\n",
              "      <td>0</td>\n",
              "      <td>0</td>\n",
              "      <td>0</td>\n",
              "      <td>0</td>\n",
              "    </tr>\n",
              "    <tr>\n",
              "      <th>...</th>\n",
              "      <td>...</td>\n",
              "      <td>...</td>\n",
              "      <td>...</td>\n",
              "      <td>...</td>\n",
              "      <td>...</td>\n",
              "      <td>...</td>\n",
              "    </tr>\n",
              "    <tr>\n",
              "      <th>12:41:00</th>\n",
              "      <td>1</td>\n",
              "      <td>0</td>\n",
              "      <td>0</td>\n",
              "      <td>0</td>\n",
              "      <td>2</td>\n",
              "      <td>1</td>\n",
              "    </tr>\n",
              "    <tr>\n",
              "      <th>12:42:00</th>\n",
              "      <td>1</td>\n",
              "      <td>0</td>\n",
              "      <td>0</td>\n",
              "      <td>0</td>\n",
              "      <td>1</td>\n",
              "      <td>0</td>\n",
              "    </tr>\n",
              "    <tr>\n",
              "      <th>12:43:00</th>\n",
              "      <td>0</td>\n",
              "      <td>0</td>\n",
              "      <td>0</td>\n",
              "      <td>0</td>\n",
              "      <td>0</td>\n",
              "      <td>6</td>\n",
              "    </tr>\n",
              "    <tr>\n",
              "      <th>12:44:00</th>\n",
              "      <td>0</td>\n",
              "      <td>0</td>\n",
              "      <td>3</td>\n",
              "      <td>0</td>\n",
              "      <td>0</td>\n",
              "      <td>0</td>\n",
              "    </tr>\n",
              "    <tr>\n",
              "      <th>12:45:00</th>\n",
              "      <td>0</td>\n",
              "      <td>0</td>\n",
              "      <td>1</td>\n",
              "      <td>0</td>\n",
              "      <td>0</td>\n",
              "      <td>0</td>\n",
              "    </tr>\n",
              "  </tbody>\n",
              "</table>\n",
              "<p>116 rows × 6 columns</p>\n",
              "</div>"
            ],
            "text/plain": [
              "          05_main_entry  05_main_exit  ...  07_main_entry  07_main_exit\n",
              "時刻                                     ...                             \n",
              "10:50:00              0             0  ...              0             0\n",
              "10:51:00              0             0  ...              0             0\n",
              "10:52:00              0             0  ...              0             0\n",
              "10:53:00              0             0  ...              0             0\n",
              "10:54:00              0             0  ...              0             0\n",
              "...                 ...           ...  ...            ...           ...\n",
              "12:41:00              1             0  ...              2             1\n",
              "12:42:00              1             0  ...              1             0\n",
              "12:43:00              0             0  ...              0             6\n",
              "12:44:00              0             0  ...              0             0\n",
              "12:45:00              0             0  ...              0             0\n",
              "\n",
              "[116 rows x 6 columns]"
            ]
          },
          "metadata": {
            "tags": []
          },
          "execution_count": 5
        }
      ]
    },
    {
      "cell_type": "markdown",
      "metadata": {
        "id": "OSR6xwwakJXE"
      },
      "source": [
        "### レジ側入り口(**`df_sub1`**)\n",
        "\n",
        "\n",
        "\n",
        "レジ側に近い入口。３階で食事をする生徒と、食事を終えて退店する生徒の出入りが激しい。"
      ]
    },
    {
      "cell_type": "code",
      "metadata": {
        "colab": {
          "base_uri": "https://localhost:8080/",
          "height": 445
        },
        "id": "_h5_ZX8UkhGs",
        "outputId": "dfc476a1-a648-41ab-9f9a-1e66bc67a35a"
      },
      "source": [
        "df_sub1 = pd.read_csv(\"z_sub1_people_dataset.csv\")\n",
        "\n",
        "df_sub1 = df_sub1.set_index('時刻')\n",
        "\n",
        "df_sub1 = df_sub1.fillna(0)\n",
        "\n",
        "df_sub1"
      ],
      "execution_count": null,
      "outputs": [
        {
          "output_type": "execute_result",
          "data": {
            "text/html": [
              "<div>\n",
              "<style scoped>\n",
              "    .dataframe tbody tr th:only-of-type {\n",
              "        vertical-align: middle;\n",
              "    }\n",
              "\n",
              "    .dataframe tbody tr th {\n",
              "        vertical-align: top;\n",
              "    }\n",
              "\n",
              "    .dataframe thead th {\n",
              "        text-align: right;\n",
              "    }\n",
              "</style>\n",
              "<table border=\"1\" class=\"dataframe\">\n",
              "  <thead>\n",
              "    <tr style=\"text-align: right;\">\n",
              "      <th></th>\n",
              "      <th>05_sub1_entry</th>\n",
              "      <th>05_sub1_exit</th>\n",
              "      <th>06_sub1_entry</th>\n",
              "      <th>06_sub1_exit</th>\n",
              "      <th>07_sub1_entry</th>\n",
              "      <th>07_sub1_exit</th>\n",
              "    </tr>\n",
              "    <tr>\n",
              "      <th>時刻</th>\n",
              "      <th></th>\n",
              "      <th></th>\n",
              "      <th></th>\n",
              "      <th></th>\n",
              "      <th></th>\n",
              "      <th></th>\n",
              "    </tr>\n",
              "  </thead>\n",
              "  <tbody>\n",
              "    <tr>\n",
              "      <th>10:50:00</th>\n",
              "      <td>0</td>\n",
              "      <td>1</td>\n",
              "      <td>0</td>\n",
              "      <td>0</td>\n",
              "      <td>0</td>\n",
              "      <td>0</td>\n",
              "    </tr>\n",
              "    <tr>\n",
              "      <th>10:51:00</th>\n",
              "      <td>0</td>\n",
              "      <td>1</td>\n",
              "      <td>0</td>\n",
              "      <td>0</td>\n",
              "      <td>0</td>\n",
              "      <td>0</td>\n",
              "    </tr>\n",
              "    <tr>\n",
              "      <th>10:52:00</th>\n",
              "      <td>0</td>\n",
              "      <td>0</td>\n",
              "      <td>0</td>\n",
              "      <td>0</td>\n",
              "      <td>0</td>\n",
              "      <td>0</td>\n",
              "    </tr>\n",
              "    <tr>\n",
              "      <th>10:53:00</th>\n",
              "      <td>0</td>\n",
              "      <td>0</td>\n",
              "      <td>0</td>\n",
              "      <td>0</td>\n",
              "      <td>0</td>\n",
              "      <td>0</td>\n",
              "    </tr>\n",
              "    <tr>\n",
              "      <th>10:54:00</th>\n",
              "      <td>0</td>\n",
              "      <td>0</td>\n",
              "      <td>0</td>\n",
              "      <td>0</td>\n",
              "      <td>0</td>\n",
              "      <td>0</td>\n",
              "    </tr>\n",
              "    <tr>\n",
              "      <th>...</th>\n",
              "      <td>...</td>\n",
              "      <td>...</td>\n",
              "      <td>...</td>\n",
              "      <td>...</td>\n",
              "      <td>...</td>\n",
              "      <td>...</td>\n",
              "    </tr>\n",
              "    <tr>\n",
              "      <th>12:41:00</th>\n",
              "      <td>5</td>\n",
              "      <td>6</td>\n",
              "      <td>1</td>\n",
              "      <td>1</td>\n",
              "      <td>2</td>\n",
              "      <td>5</td>\n",
              "    </tr>\n",
              "    <tr>\n",
              "      <th>12:42:00</th>\n",
              "      <td>0</td>\n",
              "      <td>3</td>\n",
              "      <td>0</td>\n",
              "      <td>2</td>\n",
              "      <td>7</td>\n",
              "      <td>9</td>\n",
              "    </tr>\n",
              "    <tr>\n",
              "      <th>12:43:00</th>\n",
              "      <td>0</td>\n",
              "      <td>3</td>\n",
              "      <td>1</td>\n",
              "      <td>4</td>\n",
              "      <td>11</td>\n",
              "      <td>7</td>\n",
              "    </tr>\n",
              "    <tr>\n",
              "      <th>12:44:00</th>\n",
              "      <td>3</td>\n",
              "      <td>10</td>\n",
              "      <td>0</td>\n",
              "      <td>10</td>\n",
              "      <td>5</td>\n",
              "      <td>13</td>\n",
              "    </tr>\n",
              "    <tr>\n",
              "      <th>12:45:00</th>\n",
              "      <td>3</td>\n",
              "      <td>6</td>\n",
              "      <td>3</td>\n",
              "      <td>10</td>\n",
              "      <td>5</td>\n",
              "      <td>5</td>\n",
              "    </tr>\n",
              "  </tbody>\n",
              "</table>\n",
              "<p>116 rows × 6 columns</p>\n",
              "</div>"
            ],
            "text/plain": [
              "          05_sub1_entry  05_sub1_exit  ...  07_sub1_entry  07_sub1_exit\n",
              "時刻                                     ...                             \n",
              "10:50:00              0             1  ...              0             0\n",
              "10:51:00              0             1  ...              0             0\n",
              "10:52:00              0             0  ...              0             0\n",
              "10:53:00              0             0  ...              0             0\n",
              "10:54:00              0             0  ...              0             0\n",
              "...                 ...           ...  ...            ...           ...\n",
              "12:41:00              5             6  ...              2             5\n",
              "12:42:00              0             3  ...              7             9\n",
              "12:43:00              0             3  ...             11             7\n",
              "12:44:00              3            10  ...              5            13\n",
              "12:45:00              3             6  ...              5             5\n",
              "\n",
              "[116 rows x 6 columns]"
            ]
          },
          "metadata": {
            "tags": []
          },
          "execution_count": 6
        }
      ]
    },
    {
      "cell_type": "markdown",
      "metadata": {
        "id": "Tg6RJ_YGQBdM"
      },
      "source": [
        "### テレビ側入り口(df_sub2)\n",
        "\n",
        "テレビ側に近い入口。入ってくる人のみなので、人の出入りはほとんど無い。"
      ]
    },
    {
      "cell_type": "code",
      "metadata": {
        "colab": {
          "base_uri": "https://localhost:8080/",
          "height": 445
        },
        "id": "h7zJLL3KRK-u",
        "outputId": "0a316afd-5584-49f2-c684-9540a97d7e80"
      },
      "source": [
        "df_sub2 = pd.read_csv(\"z_sub2_people_dataset.csv\")\n",
        "\n",
        "df_sub2 = df_sub2.set_index('時刻')\n",
        "\n",
        "df_sub2 = df_sub2.fillna(0)\n",
        "\n",
        "df_sub2"
      ],
      "execution_count": null,
      "outputs": [
        {
          "output_type": "execute_result",
          "data": {
            "text/html": [
              "<div>\n",
              "<style scoped>\n",
              "    .dataframe tbody tr th:only-of-type {\n",
              "        vertical-align: middle;\n",
              "    }\n",
              "\n",
              "    .dataframe tbody tr th {\n",
              "        vertical-align: top;\n",
              "    }\n",
              "\n",
              "    .dataframe thead th {\n",
              "        text-align: right;\n",
              "    }\n",
              "</style>\n",
              "<table border=\"1\" class=\"dataframe\">\n",
              "  <thead>\n",
              "    <tr style=\"text-align: right;\">\n",
              "      <th></th>\n",
              "      <th>05_sub2_entry</th>\n",
              "      <th>05_sub2_exit</th>\n",
              "      <th>06_sub2_entry</th>\n",
              "      <th>06_sub2_exit</th>\n",
              "      <th>07_sub2_entry</th>\n",
              "      <th>07_sub2_exit</th>\n",
              "    </tr>\n",
              "    <tr>\n",
              "      <th>時刻</th>\n",
              "      <th></th>\n",
              "      <th></th>\n",
              "      <th></th>\n",
              "      <th></th>\n",
              "      <th></th>\n",
              "      <th></th>\n",
              "    </tr>\n",
              "  </thead>\n",
              "  <tbody>\n",
              "    <tr>\n",
              "      <th>10:50:00</th>\n",
              "      <td>0</td>\n",
              "      <td>0</td>\n",
              "      <td>0</td>\n",
              "      <td>0</td>\n",
              "      <td>0</td>\n",
              "      <td>0</td>\n",
              "    </tr>\n",
              "    <tr>\n",
              "      <th>10:51:00</th>\n",
              "      <td>0</td>\n",
              "      <td>0</td>\n",
              "      <td>0</td>\n",
              "      <td>0</td>\n",
              "      <td>0</td>\n",
              "      <td>0</td>\n",
              "    </tr>\n",
              "    <tr>\n",
              "      <th>10:52:00</th>\n",
              "      <td>0</td>\n",
              "      <td>0</td>\n",
              "      <td>0</td>\n",
              "      <td>0</td>\n",
              "      <td>0</td>\n",
              "      <td>0</td>\n",
              "    </tr>\n",
              "    <tr>\n",
              "      <th>10:53:00</th>\n",
              "      <td>0</td>\n",
              "      <td>0</td>\n",
              "      <td>0</td>\n",
              "      <td>0</td>\n",
              "      <td>0</td>\n",
              "      <td>0</td>\n",
              "    </tr>\n",
              "    <tr>\n",
              "      <th>10:54:00</th>\n",
              "      <td>0</td>\n",
              "      <td>0</td>\n",
              "      <td>0</td>\n",
              "      <td>0</td>\n",
              "      <td>0</td>\n",
              "      <td>0</td>\n",
              "    </tr>\n",
              "    <tr>\n",
              "      <th>...</th>\n",
              "      <td>...</td>\n",
              "      <td>...</td>\n",
              "      <td>...</td>\n",
              "      <td>...</td>\n",
              "      <td>...</td>\n",
              "      <td>...</td>\n",
              "    </tr>\n",
              "    <tr>\n",
              "      <th>12:41:00</th>\n",
              "      <td>0</td>\n",
              "      <td>0</td>\n",
              "      <td>0</td>\n",
              "      <td>1</td>\n",
              "      <td>0</td>\n",
              "      <td>0</td>\n",
              "    </tr>\n",
              "    <tr>\n",
              "      <th>12:42:00</th>\n",
              "      <td>0</td>\n",
              "      <td>0</td>\n",
              "      <td>0</td>\n",
              "      <td>0</td>\n",
              "      <td>0</td>\n",
              "      <td>0</td>\n",
              "    </tr>\n",
              "    <tr>\n",
              "      <th>12:43:00</th>\n",
              "      <td>0</td>\n",
              "      <td>0</td>\n",
              "      <td>0</td>\n",
              "      <td>0</td>\n",
              "      <td>4</td>\n",
              "      <td>0</td>\n",
              "    </tr>\n",
              "    <tr>\n",
              "      <th>12:44:00</th>\n",
              "      <td>1</td>\n",
              "      <td>0</td>\n",
              "      <td>0</td>\n",
              "      <td>0</td>\n",
              "      <td>0</td>\n",
              "      <td>0</td>\n",
              "    </tr>\n",
              "    <tr>\n",
              "      <th>12:45:00</th>\n",
              "      <td>0</td>\n",
              "      <td>0</td>\n",
              "      <td>0</td>\n",
              "      <td>0</td>\n",
              "      <td>0</td>\n",
              "      <td>0</td>\n",
              "    </tr>\n",
              "  </tbody>\n",
              "</table>\n",
              "<p>116 rows × 6 columns</p>\n",
              "</div>"
            ],
            "text/plain": [
              "          05_sub2_entry  05_sub2_exit  ...  07_sub2_entry  07_sub2_exit\n",
              "時刻                                     ...                             \n",
              "10:50:00              0             0  ...              0             0\n",
              "10:51:00              0             0  ...              0             0\n",
              "10:52:00              0             0  ...              0             0\n",
              "10:53:00              0             0  ...              0             0\n",
              "10:54:00              0             0  ...              0             0\n",
              "...                 ...           ...  ...            ...           ...\n",
              "12:41:00              0             0  ...              0             0\n",
              "12:42:00              0             0  ...              0             0\n",
              "12:43:00              0             0  ...              4             0\n",
              "12:44:00              1             0  ...              0             0\n",
              "12:45:00              0             0  ...              0             0\n",
              "\n",
              "[116 rows x 6 columns]"
            ]
          },
          "metadata": {
            "tags": []
          },
          "execution_count": 7
        }
      ]
    },
    {
      "cell_type": "markdown",
      "metadata": {
        "id": "XaVmKJaUUhvg"
      },
      "source": [
        "## データの情報\n",
        "\n",
        "### 計測場所と項目\n",
        "\n",
        "**計測場所**：Z 号館食堂\n",
        "\n",
        "**計測項目**：\n",
        "\n",
        "- Web サーバの取得データ(**`df_rasp`**)\n",
        "\n",
        "2台の Raspberry Pi から受け取ったデータは、 Web サーバ内で和集合し重複を削除している。線形回帰で調整はしていない。\n",
        "\n",
        "- Z 号館側エレベータ入り口(**`df_main`**)\n",
        "\n",
        "- レジ側入り口(**`df_sub1`**)\n",
        "\n",
        "- テレビ側入り口(**`df_sub2`**)\n",
        "\n",
        "- 1分間に提供された食数(**`df_meal`**)\n",
        "\n",
        "食事の種類別でも「合計（それ以外除く）」「定食」・「丼」・「麺」・「それ以外」という項目で計測した。\n",
        "\n",
        "\n",
        "**MAC アドレスは取得していない。**\n",
        "\n",
        "### 計測開始時の入店数\n",
        "\n",
        "**食堂のおばちゃん3人を含め、16人が店内に滞在していた**"
      ]
    },
    {
      "cell_type": "markdown",
      "metadata": {
        "id": "CQn5rV7NPdV0"
      },
      "source": [
        "## データの可視化\n",
        "\n"
      ]
    },
    {
      "cell_type": "markdown",
      "metadata": {
        "id": "_ixplJ-bjLTF"
      },
      "source": [
        "### 食堂に入店・退店した人数の累積"
      ]
    },
    {
      "cell_type": "code",
      "metadata": {
        "colab": {
          "base_uri": "https://localhost:8080/",
          "height": 542
        },
        "id": "qIFF46SEjSLi",
        "outputId": "18a804c1-5019-40c6-d7dc-0e343f7e2aca"
      },
      "source": [
        "# 入店人数\n",
        "df_05_entry = df_main[\"05_main_entry\"] + df_sub1[\"05_sub1_entry\"] + df_sub2[\"05_sub2_entry\"]\n",
        "df_06_entry = df_main[\"06_main_entry\"] + df_sub1[\"06_sub1_entry\"] + df_sub2[\"06_sub2_entry\"]\n",
        "df_07_entry = df_main[\"07_main_entry\"] + df_sub1[\"07_sub1_entry\"] + df_sub2[\"07_sub2_entry\"]\n",
        "\n",
        "\n",
        "df_05_entry = df_05_entry.cumsum()\n",
        "df_06_entry = df_06_entry.cumsum()\n",
        "df_07_entry = df_07_entry.cumsum()\n",
        "\n",
        "\n",
        "\n",
        "df_cumsum = pd.concat([df_05_entry, df_06_entry, df_07_entry], axis=1)\n",
        "fig = px.line(df_cumsum,labels={\"value\": \"人数 [人]\",\"date\": \"日時 [分]\"})\n",
        "\n",
        "fig.update_layout(\n",
        "    title={\n",
        "        'text': \"食堂に入店した人数の累積\",\n",
        "        'y':0.95,\n",
        "        'x':0.5,\n",
        "        'xanchor': 'center',\n",
        "        'yanchor': 'top'})\n",
        "\n",
        "fig.show()"
      ],
      "execution_count": null,
      "outputs": [
        {
          "output_type": "display_data",
          "data": {
            "text/html": [
              "<html>\n",
              "<head><meta charset=\"utf-8\" /></head>\n",
              "<body>\n",
              "    <div>            <script src=\"https://cdnjs.cloudflare.com/ajax/libs/mathjax/2.7.5/MathJax.js?config=TeX-AMS-MML_SVG\"></script><script type=\"text/javascript\">if (window.MathJax) {MathJax.Hub.Config({SVG: {font: \"STIX-Web\"}});}</script>                <script type=\"text/javascript\">window.PlotlyConfig = {MathJaxConfig: 'local'};</script>\n",
              "        <script src=\"https://cdn.plot.ly/plotly-2.2.0.min.js\"></script>                <div id=\"2f8d0fd0-b166-4a9e-83f1-15e2de7f8664\" class=\"plotly-graph-div\" style=\"height:525px; width:100%;\"></div>            <script type=\"text/javascript\">                                    window.PLOTLYENV=window.PLOTLYENV || {};                                    if (document.getElementById(\"2f8d0fd0-b166-4a9e-83f1-15e2de7f8664\")) {                    Plotly.newPlot(                        \"2f8d0fd0-b166-4a9e-83f1-15e2de7f8664\",                        [{\"hovertemplate\":\"variable=0<br>\\u6642\\u523b=%{x}<br>\\u4eba\\u6570 [\\u4eba]=%{y}<extra></extra>\",\"legendgroup\":\"0\",\"line\":{\"color\":\"#636efa\",\"dash\":\"solid\"},\"mode\":\"lines\",\"name\":\"0\",\"orientation\":\"v\",\"showlegend\":true,\"type\":\"scatter\",\"x\":[\"10:50:00\",\"10:51:00\",\"10:52:00\",\"10:53:00\",\"10:54:00\",\"10:55:00\",\"10:56:00\",\"10:57:00\",\"10:58:00\",\"10:59:00\",\"11:00:00\",\"11:01:00\",\"11:02:00\",\"11:03:00\",\"11:04:00\",\"11:05:00\",\"11:06:00\",\"11:07:00\",\"11:08:00\",\"11:09:00\",\"11:10:00\",\"11:11:00\",\"11:12:00\",\"11:13:00\",\"11:14:00\",\"11:15:00\",\"11:16:00\",\"11:17:00\",\"11:18:00\",\"11:19:00\",\"11:20:00\",\"11:21:00\",\"11:22:00\",\"11:23:00\",\"11:24:00\",\"11:25:00\",\"11:26:00\",\"11:27:00\",\"11:28:00\",\"11:29:00\",\"11:30:00\",\"11:31:00\",\"11:32:00\",\"11:33:00\",\"11:34:00\",\"11:35:00\",\"11:36:00\",\"11:37:00\",\"11:38:00\",\"11:39:00\",\"11:40:00\",\"11:41:00\",\"11:42:00\",\"11:43:00\",\"11:44:00\",\"11:45:00\",\"11:46:00\",\"11:47:00\",\"11:48:00\",\"11:49:00\",\"11:50:00\",\"11:51:00\",\"11:52:00\",\"11:53:00\",\"11:54:00\",\"11:55:00\",\"11:56:00\",\"11:57:00\",\"11:58:00\",\"11:59:00\",\"12:00:00\",\"12:01:00\",\"12:02:00\",\"12:03:00\",\"12:04:00\",\"12:05:00\",\"12:06:00\",\"12:07:00\",\"12:08:00\",\"12:09:00\",\"12:10:00\",\"12:11:00\",\"12:12:00\",\"12:13:00\",\"12:14:00\",\"12:15:00\",\"12:16:00\",\"12:17:00\",\"12:18:00\",\"12:19:00\",\"12:20:00\",\"12:21:00\",\"12:22:00\",\"12:23:00\",\"12:24:00\",\"12:25:00\",\"12:26:00\",\"12:27:00\",\"12:28:00\",\"12:29:00\",\"12:30:00\",\"12:31:00\",\"12:32:00\",\"12:33:00\",\"12:34:00\",\"12:35:00\",\"12:36:00\",\"12:37:00\",\"12:38:00\",\"12:39:00\",\"12:40:00\",\"12:41:00\",\"12:42:00\",\"12:43:00\",\"12:44:00\",\"12:45:00\"],\"xaxis\":\"x\",\"y\":[0,0,0,0,0,0,0,0,1,1,1,1,1,1,1,1,1,1,1,1,3,3,3,3,4,4,4,4,4,4,4,4,4,5,10,10,11,13,14,15,15,17,18,18,18,19,19,20,20,24,24,25,27,27,29,29,31,31,32,33,37,37,38,42,43,50,53,64,66,72,75,83,93,100,114,121,125,136,151,161,168,176,179,190,202,213,222,224,229,233,239,247,253,255,259,261,263,271,276,279,286,291,292,294,298,299,301,307,307,319,331,337,338,338,342,345],\"yaxis\":\"y\"},{\"hovertemplate\":\"variable=1<br>\\u6642\\u523b=%{x}<br>\\u4eba\\u6570 [\\u4eba]=%{y}<extra></extra>\",\"legendgroup\":\"1\",\"line\":{\"color\":\"#EF553B\",\"dash\":\"solid\"},\"mode\":\"lines\",\"name\":\"1\",\"orientation\":\"v\",\"showlegend\":true,\"type\":\"scatter\",\"x\":[\"10:50:00\",\"10:51:00\",\"10:52:00\",\"10:53:00\",\"10:54:00\",\"10:55:00\",\"10:56:00\",\"10:57:00\",\"10:58:00\",\"10:59:00\",\"11:00:00\",\"11:01:00\",\"11:02:00\",\"11:03:00\",\"11:04:00\",\"11:05:00\",\"11:06:00\",\"11:07:00\",\"11:08:00\",\"11:09:00\",\"11:10:00\",\"11:11:00\",\"11:12:00\",\"11:13:00\",\"11:14:00\",\"11:15:00\",\"11:16:00\",\"11:17:00\",\"11:18:00\",\"11:19:00\",\"11:20:00\",\"11:21:00\",\"11:22:00\",\"11:23:00\",\"11:24:00\",\"11:25:00\",\"11:26:00\",\"11:27:00\",\"11:28:00\",\"11:29:00\",\"11:30:00\",\"11:31:00\",\"11:32:00\",\"11:33:00\",\"11:34:00\",\"11:35:00\",\"11:36:00\",\"11:37:00\",\"11:38:00\",\"11:39:00\",\"11:40:00\",\"11:41:00\",\"11:42:00\",\"11:43:00\",\"11:44:00\",\"11:45:00\",\"11:46:00\",\"11:47:00\",\"11:48:00\",\"11:49:00\",\"11:50:00\",\"11:51:00\",\"11:52:00\",\"11:53:00\",\"11:54:00\",\"11:55:00\",\"11:56:00\",\"11:57:00\",\"11:58:00\",\"11:59:00\",\"12:00:00\",\"12:01:00\",\"12:02:00\",\"12:03:00\",\"12:04:00\",\"12:05:00\",\"12:06:00\",\"12:07:00\",\"12:08:00\",\"12:09:00\",\"12:10:00\",\"12:11:00\",\"12:12:00\",\"12:13:00\",\"12:14:00\",\"12:15:00\",\"12:16:00\",\"12:17:00\",\"12:18:00\",\"12:19:00\",\"12:20:00\",\"12:21:00\",\"12:22:00\",\"12:23:00\",\"12:24:00\",\"12:25:00\",\"12:26:00\",\"12:27:00\",\"12:28:00\",\"12:29:00\",\"12:30:00\",\"12:31:00\",\"12:32:00\",\"12:33:00\",\"12:34:00\",\"12:35:00\",\"12:36:00\",\"12:37:00\",\"12:38:00\",\"12:39:00\",\"12:40:00\",\"12:41:00\",\"12:42:00\",\"12:43:00\",\"12:44:00\",\"12:45:00\"],\"xaxis\":\"x\",\"y\":[0,0,0,0,0,0,0,0,1,1,5,5,5,5,5,5,5,5,7,7,7,8,8,8,8,10,10,11,12,12,13,13,14,16,16,17,18,19,19,21,27,30,30,30,30,32,34,35,35,35,36,37,37,38,41,41,42,42,43,48,54,55,62,67,68,70,81,85,95,96,98,99,99,104,108,111,113,119,125,128,133,140,147,149,150,152,156,160,166,172,173,176,181,182,183,186,194,194,197,197,203,204,207,213,216,218,219,221,222,222,222,223,223,224,227,231],\"yaxis\":\"y\"},{\"hovertemplate\":\"variable=2<br>\\u6642\\u523b=%{x}<br>\\u4eba\\u6570 [\\u4eba]=%{y}<extra></extra>\",\"legendgroup\":\"2\",\"line\":{\"color\":\"#00cc96\",\"dash\":\"solid\"},\"mode\":\"lines\",\"name\":\"2\",\"orientation\":\"v\",\"showlegend\":true,\"type\":\"scatter\",\"x\":[\"10:50:00\",\"10:51:00\",\"10:52:00\",\"10:53:00\",\"10:54:00\",\"10:55:00\",\"10:56:00\",\"10:57:00\",\"10:58:00\",\"10:59:00\",\"11:00:00\",\"11:01:00\",\"11:02:00\",\"11:03:00\",\"11:04:00\",\"11:05:00\",\"11:06:00\",\"11:07:00\",\"11:08:00\",\"11:09:00\",\"11:10:00\",\"11:11:00\",\"11:12:00\",\"11:13:00\",\"11:14:00\",\"11:15:00\",\"11:16:00\",\"11:17:00\",\"11:18:00\",\"11:19:00\",\"11:20:00\",\"11:21:00\",\"11:22:00\",\"11:23:00\",\"11:24:00\",\"11:25:00\",\"11:26:00\",\"11:27:00\",\"11:28:00\",\"11:29:00\",\"11:30:00\",\"11:31:00\",\"11:32:00\",\"11:33:00\",\"11:34:00\",\"11:35:00\",\"11:36:00\",\"11:37:00\",\"11:38:00\",\"11:39:00\",\"11:40:00\",\"11:41:00\",\"11:42:00\",\"11:43:00\",\"11:44:00\",\"11:45:00\",\"11:46:00\",\"11:47:00\",\"11:48:00\",\"11:49:00\",\"11:50:00\",\"11:51:00\",\"11:52:00\",\"11:53:00\",\"11:54:00\",\"11:55:00\",\"11:56:00\",\"11:57:00\",\"11:58:00\",\"11:59:00\",\"12:00:00\",\"12:01:00\",\"12:02:00\",\"12:03:00\",\"12:04:00\",\"12:05:00\",\"12:06:00\",\"12:07:00\",\"12:08:00\",\"12:09:00\",\"12:10:00\",\"12:11:00\",\"12:12:00\",\"12:13:00\",\"12:14:00\",\"12:15:00\",\"12:16:00\",\"12:17:00\",\"12:18:00\",\"12:19:00\",\"12:20:00\",\"12:21:00\",\"12:22:00\",\"12:23:00\",\"12:24:00\",\"12:25:00\",\"12:26:00\",\"12:27:00\",\"12:28:00\",\"12:29:00\",\"12:30:00\",\"12:31:00\",\"12:32:00\",\"12:33:00\",\"12:34:00\",\"12:35:00\",\"12:36:00\",\"12:37:00\",\"12:38:00\",\"12:39:00\",\"12:40:00\",\"12:41:00\",\"12:42:00\",\"12:43:00\",\"12:44:00\",\"12:45:00\"],\"xaxis\":\"x\",\"y\":[0,0,0,0,0,0,0,0,0,0,0,1,2,2,3,4,4,5,7,8,8,8,9,11,12,12,13,13,14,14,14,14,17,17,19,19,22,22,23,23,29,34,37,43,45,46,46,46,47,49,51,52,53,54,55,62,70,71,73,74,76,78,81,83,85,87,90,92,99,107,109,111,114,116,119,121,124,128,134,147,152,158,163,183,202,222,230,234,242,253,253,277,291,294,297,302,303,309,314,316,324,330,334,336,340,341,353,360,363,372,374,378,386,401,406,411],\"yaxis\":\"y\"}],                        {\"legend\":{\"title\":{\"text\":\"variable\"},\"tracegroupgap\":0},\"margin\":{\"t\":60},\"template\":{\"data\":{\"bar\":[{\"error_x\":{\"color\":\"#2a3f5f\"},\"error_y\":{\"color\":\"#2a3f5f\"},\"marker\":{\"line\":{\"color\":\"#E5ECF6\",\"width\":0.5},\"pattern\":{\"fillmode\":\"overlay\",\"size\":10,\"solidity\":0.2}},\"type\":\"bar\"}],\"barpolar\":[{\"marker\":{\"line\":{\"color\":\"#E5ECF6\",\"width\":0.5},\"pattern\":{\"fillmode\":\"overlay\",\"size\":10,\"solidity\":0.2}},\"type\":\"barpolar\"}],\"carpet\":[{\"aaxis\":{\"endlinecolor\":\"#2a3f5f\",\"gridcolor\":\"white\",\"linecolor\":\"white\",\"minorgridcolor\":\"white\",\"startlinecolor\":\"#2a3f5f\"},\"baxis\":{\"endlinecolor\":\"#2a3f5f\",\"gridcolor\":\"white\",\"linecolor\":\"white\",\"minorgridcolor\":\"white\",\"startlinecolor\":\"#2a3f5f\"},\"type\":\"carpet\"}],\"choropleth\":[{\"colorbar\":{\"outlinewidth\":0,\"ticks\":\"\"},\"type\":\"choropleth\"}],\"contour\":[{\"colorbar\":{\"outlinewidth\":0,\"ticks\":\"\"},\"colorscale\":[[0.0,\"#0d0887\"],[0.1111111111111111,\"#46039f\"],[0.2222222222222222,\"#7201a8\"],[0.3333333333333333,\"#9c179e\"],[0.4444444444444444,\"#bd3786\"],[0.5555555555555556,\"#d8576b\"],[0.6666666666666666,\"#ed7953\"],[0.7777777777777778,\"#fb9f3a\"],[0.8888888888888888,\"#fdca26\"],[1.0,\"#f0f921\"]],\"type\":\"contour\"}],\"contourcarpet\":[{\"colorbar\":{\"outlinewidth\":0,\"ticks\":\"\"},\"type\":\"contourcarpet\"}],\"heatmap\":[{\"colorbar\":{\"outlinewidth\":0,\"ticks\":\"\"},\"colorscale\":[[0.0,\"#0d0887\"],[0.1111111111111111,\"#46039f\"],[0.2222222222222222,\"#7201a8\"],[0.3333333333333333,\"#9c179e\"],[0.4444444444444444,\"#bd3786\"],[0.5555555555555556,\"#d8576b\"],[0.6666666666666666,\"#ed7953\"],[0.7777777777777778,\"#fb9f3a\"],[0.8888888888888888,\"#fdca26\"],[1.0,\"#f0f921\"]],\"type\":\"heatmap\"}],\"heatmapgl\":[{\"colorbar\":{\"outlinewidth\":0,\"ticks\":\"\"},\"colorscale\":[[0.0,\"#0d0887\"],[0.1111111111111111,\"#46039f\"],[0.2222222222222222,\"#7201a8\"],[0.3333333333333333,\"#9c179e\"],[0.4444444444444444,\"#bd3786\"],[0.5555555555555556,\"#d8576b\"],[0.6666666666666666,\"#ed7953\"],[0.7777777777777778,\"#fb9f3a\"],[0.8888888888888888,\"#fdca26\"],[1.0,\"#f0f921\"]],\"type\":\"heatmapgl\"}],\"histogram\":[{\"marker\":{\"pattern\":{\"fillmode\":\"overlay\",\"size\":10,\"solidity\":0.2}},\"type\":\"histogram\"}],\"histogram2d\":[{\"colorbar\":{\"outlinewidth\":0,\"ticks\":\"\"},\"colorscale\":[[0.0,\"#0d0887\"],[0.1111111111111111,\"#46039f\"],[0.2222222222222222,\"#7201a8\"],[0.3333333333333333,\"#9c179e\"],[0.4444444444444444,\"#bd3786\"],[0.5555555555555556,\"#d8576b\"],[0.6666666666666666,\"#ed7953\"],[0.7777777777777778,\"#fb9f3a\"],[0.8888888888888888,\"#fdca26\"],[1.0,\"#f0f921\"]],\"type\":\"histogram2d\"}],\"histogram2dcontour\":[{\"colorbar\":{\"outlinewidth\":0,\"ticks\":\"\"},\"colorscale\":[[0.0,\"#0d0887\"],[0.1111111111111111,\"#46039f\"],[0.2222222222222222,\"#7201a8\"],[0.3333333333333333,\"#9c179e\"],[0.4444444444444444,\"#bd3786\"],[0.5555555555555556,\"#d8576b\"],[0.6666666666666666,\"#ed7953\"],[0.7777777777777778,\"#fb9f3a\"],[0.8888888888888888,\"#fdca26\"],[1.0,\"#f0f921\"]],\"type\":\"histogram2dcontour\"}],\"mesh3d\":[{\"colorbar\":{\"outlinewidth\":0,\"ticks\":\"\"},\"type\":\"mesh3d\"}],\"parcoords\":[{\"line\":{\"colorbar\":{\"outlinewidth\":0,\"ticks\":\"\"}},\"type\":\"parcoords\"}],\"pie\":[{\"automargin\":true,\"type\":\"pie\"}],\"scatter\":[{\"marker\":{\"colorbar\":{\"outlinewidth\":0,\"ticks\":\"\"}},\"type\":\"scatter\"}],\"scatter3d\":[{\"line\":{\"colorbar\":{\"outlinewidth\":0,\"ticks\":\"\"}},\"marker\":{\"colorbar\":{\"outlinewidth\":0,\"ticks\":\"\"}},\"type\":\"scatter3d\"}],\"scattercarpet\":[{\"marker\":{\"colorbar\":{\"outlinewidth\":0,\"ticks\":\"\"}},\"type\":\"scattercarpet\"}],\"scattergeo\":[{\"marker\":{\"colorbar\":{\"outlinewidth\":0,\"ticks\":\"\"}},\"type\":\"scattergeo\"}],\"scattergl\":[{\"marker\":{\"colorbar\":{\"outlinewidth\":0,\"ticks\":\"\"}},\"type\":\"scattergl\"}],\"scattermapbox\":[{\"marker\":{\"colorbar\":{\"outlinewidth\":0,\"ticks\":\"\"}},\"type\":\"scattermapbox\"}],\"scatterpolar\":[{\"marker\":{\"colorbar\":{\"outlinewidth\":0,\"ticks\":\"\"}},\"type\":\"scatterpolar\"}],\"scatterpolargl\":[{\"marker\":{\"colorbar\":{\"outlinewidth\":0,\"ticks\":\"\"}},\"type\":\"scatterpolargl\"}],\"scatterternary\":[{\"marker\":{\"colorbar\":{\"outlinewidth\":0,\"ticks\":\"\"}},\"type\":\"scatterternary\"}],\"surface\":[{\"colorbar\":{\"outlinewidth\":0,\"ticks\":\"\"},\"colorscale\":[[0.0,\"#0d0887\"],[0.1111111111111111,\"#46039f\"],[0.2222222222222222,\"#7201a8\"],[0.3333333333333333,\"#9c179e\"],[0.4444444444444444,\"#bd3786\"],[0.5555555555555556,\"#d8576b\"],[0.6666666666666666,\"#ed7953\"],[0.7777777777777778,\"#fb9f3a\"],[0.8888888888888888,\"#fdca26\"],[1.0,\"#f0f921\"]],\"type\":\"surface\"}],\"table\":[{\"cells\":{\"fill\":{\"color\":\"#EBF0F8\"},\"line\":{\"color\":\"white\"}},\"header\":{\"fill\":{\"color\":\"#C8D4E3\"},\"line\":{\"color\":\"white\"}},\"type\":\"table\"}]},\"layout\":{\"annotationdefaults\":{\"arrowcolor\":\"#2a3f5f\",\"arrowhead\":0,\"arrowwidth\":1},\"autotypenumbers\":\"strict\",\"coloraxis\":{\"colorbar\":{\"outlinewidth\":0,\"ticks\":\"\"}},\"colorscale\":{\"diverging\":[[0,\"#8e0152\"],[0.1,\"#c51b7d\"],[0.2,\"#de77ae\"],[0.3,\"#f1b6da\"],[0.4,\"#fde0ef\"],[0.5,\"#f7f7f7\"],[0.6,\"#e6f5d0\"],[0.7,\"#b8e186\"],[0.8,\"#7fbc41\"],[0.9,\"#4d9221\"],[1,\"#276419\"]],\"sequential\":[[0.0,\"#0d0887\"],[0.1111111111111111,\"#46039f\"],[0.2222222222222222,\"#7201a8\"],[0.3333333333333333,\"#9c179e\"],[0.4444444444444444,\"#bd3786\"],[0.5555555555555556,\"#d8576b\"],[0.6666666666666666,\"#ed7953\"],[0.7777777777777778,\"#fb9f3a\"],[0.8888888888888888,\"#fdca26\"],[1.0,\"#f0f921\"]],\"sequentialminus\":[[0.0,\"#0d0887\"],[0.1111111111111111,\"#46039f\"],[0.2222222222222222,\"#7201a8\"],[0.3333333333333333,\"#9c179e\"],[0.4444444444444444,\"#bd3786\"],[0.5555555555555556,\"#d8576b\"],[0.6666666666666666,\"#ed7953\"],[0.7777777777777778,\"#fb9f3a\"],[0.8888888888888888,\"#fdca26\"],[1.0,\"#f0f921\"]]},\"colorway\":[\"#636efa\",\"#EF553B\",\"#00cc96\",\"#ab63fa\",\"#FFA15A\",\"#19d3f3\",\"#FF6692\",\"#B6E880\",\"#FF97FF\",\"#FECB52\"],\"font\":{\"color\":\"#2a3f5f\"},\"geo\":{\"bgcolor\":\"white\",\"lakecolor\":\"white\",\"landcolor\":\"#E5ECF6\",\"showlakes\":true,\"showland\":true,\"subunitcolor\":\"white\"},\"hoverlabel\":{\"align\":\"left\"},\"hovermode\":\"closest\",\"mapbox\":{\"style\":\"light\"},\"paper_bgcolor\":\"white\",\"plot_bgcolor\":\"#E5ECF6\",\"polar\":{\"angularaxis\":{\"gridcolor\":\"white\",\"linecolor\":\"white\",\"ticks\":\"\"},\"bgcolor\":\"#E5ECF6\",\"radialaxis\":{\"gridcolor\":\"white\",\"linecolor\":\"white\",\"ticks\":\"\"}},\"scene\":{\"xaxis\":{\"backgroundcolor\":\"#E5ECF6\",\"gridcolor\":\"white\",\"gridwidth\":2,\"linecolor\":\"white\",\"showbackground\":true,\"ticks\":\"\",\"zerolinecolor\":\"white\"},\"yaxis\":{\"backgroundcolor\":\"#E5ECF6\",\"gridcolor\":\"white\",\"gridwidth\":2,\"linecolor\":\"white\",\"showbackground\":true,\"ticks\":\"\",\"zerolinecolor\":\"white\"},\"zaxis\":{\"backgroundcolor\":\"#E5ECF6\",\"gridcolor\":\"white\",\"gridwidth\":2,\"linecolor\":\"white\",\"showbackground\":true,\"ticks\":\"\",\"zerolinecolor\":\"white\"}},\"shapedefaults\":{\"line\":{\"color\":\"#2a3f5f\"}},\"ternary\":{\"aaxis\":{\"gridcolor\":\"white\",\"linecolor\":\"white\",\"ticks\":\"\"},\"baxis\":{\"gridcolor\":\"white\",\"linecolor\":\"white\",\"ticks\":\"\"},\"bgcolor\":\"#E5ECF6\",\"caxis\":{\"gridcolor\":\"white\",\"linecolor\":\"white\",\"ticks\":\"\"}},\"title\":{\"x\":0.05},\"xaxis\":{\"automargin\":true,\"gridcolor\":\"white\",\"linecolor\":\"white\",\"ticks\":\"\",\"title\":{\"standoff\":15},\"zerolinecolor\":\"white\",\"zerolinewidth\":2},\"yaxis\":{\"automargin\":true,\"gridcolor\":\"white\",\"linecolor\":\"white\",\"ticks\":\"\",\"title\":{\"standoff\":15},\"zerolinecolor\":\"white\",\"zerolinewidth\":2}}},\"title\":{\"text\":\"\\u98df\\u5802\\u306b\\u5165\\u5e97\\u3057\\u305f\\u4eba\\u6570\\u306e\\u7d2f\\u7a4d\",\"x\":0.5,\"xanchor\":\"center\",\"y\":0.95,\"yanchor\":\"top\"},\"xaxis\":{\"anchor\":\"y\",\"domain\":[0.0,1.0],\"title\":{\"text\":\"\\u6642\\u523b\"}},\"yaxis\":{\"anchor\":\"x\",\"domain\":[0.0,1.0],\"title\":{\"text\":\"\\u4eba\\u6570 [\\u4eba]\"}}},                        {\"responsive\": true}                    ).then(function(){\n",
              "                            \n",
              "var gd = document.getElementById('2f8d0fd0-b166-4a9e-83f1-15e2de7f8664');\n",
              "var x = new MutationObserver(function (mutations, observer) {{\n",
              "        var display = window.getComputedStyle(gd).display;\n",
              "        if (!display || display === 'none') {{\n",
              "            console.log([gd, 'removed!']);\n",
              "            Plotly.purge(gd);\n",
              "            observer.disconnect();\n",
              "        }}\n",
              "}});\n",
              "\n",
              "// Listen for the removal of the full notebook cells\n",
              "var notebookContainer = gd.closest('#notebook-container');\n",
              "if (notebookContainer) {{\n",
              "    x.observe(notebookContainer, {childList: true});\n",
              "}}\n",
              "\n",
              "// Listen for the clearing of the current output cell\n",
              "var outputEl = gd.closest('.output');\n",
              "if (outputEl) {{\n",
              "    x.observe(outputEl, {childList: true});\n",
              "}}\n",
              "\n",
              "                        })                };                            </script>        </div>\n",
              "</body>\n",
              "</html>"
            ]
          },
          "metadata": {
            "tags": []
          }
        }
      ]
    },
    {
      "cell_type": "code",
      "metadata": {
        "colab": {
          "base_uri": "https://localhost:8080/",
          "height": 542
        },
        "id": "EWz-nNUi3Udf",
        "outputId": "bbaf2582-467d-4763-ef93-b13c8eddd10a"
      },
      "source": [
        "# 退店人数\n",
        "df_05_exit = df_main[\"05_main_exit\"] + df_sub1[\"05_sub1_exit\"] + df_sub2[\"05_sub2_entry\"]\n",
        "df_06_exit = df_main[\"06_main_exit\"] + df_sub1[\"06_sub1_exit\"] + df_sub2[\"06_sub2_entry\"]\n",
        "df_07_exit = df_main[\"07_main_exit\"] + df_sub1[\"07_sub1_exit\"] + df_sub2[\"07_sub2_entry\"]\n",
        "\n",
        "\n",
        "df_05_exit = df_05_exit.cumsum()\n",
        "df_06_exit = df_06_exit.cumsum()\n",
        "df_07_exit = df_07_exit.cumsum()\n",
        "\n",
        "\n",
        "\n",
        "df_cumsum = pd.concat([df_05_exit, df_06_exit, df_07_exit], axis=1)\n",
        "fig = px.line(df_cumsum,labels={\"value\": \"人数 (人)\",\"date\": \"日時 (分)\"})\n",
        "\n",
        "fig.update_layout(\n",
        "    title={\n",
        "        'text': \"食堂に退店した人数の累積\",\n",
        "        'y':0.95,\n",
        "        'x':0.5,\n",
        "        'xanchor': 'center',\n",
        "        'yanchor': 'top'})\n",
        "\n",
        "fig.show()"
      ],
      "execution_count": null,
      "outputs": [
        {
          "output_type": "display_data",
          "data": {
            "text/html": [
              "<html>\n",
              "<head><meta charset=\"utf-8\" /></head>\n",
              "<body>\n",
              "    <div>            <script src=\"https://cdnjs.cloudflare.com/ajax/libs/mathjax/2.7.5/MathJax.js?config=TeX-AMS-MML_SVG\"></script><script type=\"text/javascript\">if (window.MathJax) {MathJax.Hub.Config({SVG: {font: \"STIX-Web\"}});}</script>                <script type=\"text/javascript\">window.PlotlyConfig = {MathJaxConfig: 'local'};</script>\n",
              "        <script src=\"https://cdn.plot.ly/plotly-2.2.0.min.js\"></script>                <div id=\"ccfcad1e-110e-4dfb-9622-a473096973a9\" class=\"plotly-graph-div\" style=\"height:525px; width:100%;\"></div>            <script type=\"text/javascript\">                                    window.PLOTLYENV=window.PLOTLYENV || {};                                    if (document.getElementById(\"ccfcad1e-110e-4dfb-9622-a473096973a9\")) {                    Plotly.newPlot(                        \"ccfcad1e-110e-4dfb-9622-a473096973a9\",                        [{\"hovertemplate\":\"variable=0<br>\\u6642\\u523b=%{x}<br>\\u4eba\\u6570 (\\u4eba)=%{y}<extra></extra>\",\"legendgroup\":\"0\",\"line\":{\"color\":\"#636efa\",\"dash\":\"solid\"},\"mode\":\"lines\",\"name\":\"0\",\"orientation\":\"v\",\"showlegend\":true,\"type\":\"scatter\",\"x\":[\"10:50:00\",\"10:51:00\",\"10:52:00\",\"10:53:00\",\"10:54:00\",\"10:55:00\",\"10:56:00\",\"10:57:00\",\"10:58:00\",\"10:59:00\",\"11:00:00\",\"11:01:00\",\"11:02:00\",\"11:03:00\",\"11:04:00\",\"11:05:00\",\"11:06:00\",\"11:07:00\",\"11:08:00\",\"11:09:00\",\"11:10:00\",\"11:11:00\",\"11:12:00\",\"11:13:00\",\"11:14:00\",\"11:15:00\",\"11:16:00\",\"11:17:00\",\"11:18:00\",\"11:19:00\",\"11:20:00\",\"11:21:00\",\"11:22:00\",\"11:23:00\",\"11:24:00\",\"11:25:00\",\"11:26:00\",\"11:27:00\",\"11:28:00\",\"11:29:00\",\"11:30:00\",\"11:31:00\",\"11:32:00\",\"11:33:00\",\"11:34:00\",\"11:35:00\",\"11:36:00\",\"11:37:00\",\"11:38:00\",\"11:39:00\",\"11:40:00\",\"11:41:00\",\"11:42:00\",\"11:43:00\",\"11:44:00\",\"11:45:00\",\"11:46:00\",\"11:47:00\",\"11:48:00\",\"11:49:00\",\"11:50:00\",\"11:51:00\",\"11:52:00\",\"11:53:00\",\"11:54:00\",\"11:55:00\",\"11:56:00\",\"11:57:00\",\"11:58:00\",\"11:59:00\",\"12:00:00\",\"12:01:00\",\"12:02:00\",\"12:03:00\",\"12:04:00\",\"12:05:00\",\"12:06:00\",\"12:07:00\",\"12:08:00\",\"12:09:00\",\"12:10:00\",\"12:11:00\",\"12:12:00\",\"12:13:00\",\"12:14:00\",\"12:15:00\",\"12:16:00\",\"12:17:00\",\"12:18:00\",\"12:19:00\",\"12:20:00\",\"12:21:00\",\"12:22:00\",\"12:23:00\",\"12:24:00\",\"12:25:00\",\"12:26:00\",\"12:27:00\",\"12:28:00\",\"12:29:00\",\"12:30:00\",\"12:31:00\",\"12:32:00\",\"12:33:00\",\"12:34:00\",\"12:35:00\",\"12:36:00\",\"12:37:00\",\"12:38:00\",\"12:39:00\",\"12:40:00\",\"12:41:00\",\"12:42:00\",\"12:43:00\",\"12:44:00\",\"12:45:00\"],\"xaxis\":\"x\",\"y\":[1,2,2,2,2,2,2,2,3,3,3,3,3,3,3,3,3,3,3,5,6,6,6,6,7,7,7,7,7,7,7,7,7,8,10,11,12,14,15,15,15,16,16,17,17,18,20,20,21,21,22,25,26,27,29,30,32,34,36,37,38,38,40,40,41,42,43,47,50,56,59,64,65,68,73,75,83,89,89,94,99,114,128,139,148,160,171,180,186,201,209,215,229,236,246,248,261,270,279,287,291,299,304,310,316,319,325,330,336,354,374,380,383,386,397,403],\"yaxis\":\"y\"},{\"hovertemplate\":\"variable=1<br>\\u6642\\u523b=%{x}<br>\\u4eba\\u6570 (\\u4eba)=%{y}<extra></extra>\",\"legendgroup\":\"1\",\"line\":{\"color\":\"#EF553B\",\"dash\":\"solid\"},\"mode\":\"lines\",\"name\":\"1\",\"orientation\":\"v\",\"showlegend\":true,\"type\":\"scatter\",\"x\":[\"10:50:00\",\"10:51:00\",\"10:52:00\",\"10:53:00\",\"10:54:00\",\"10:55:00\",\"10:56:00\",\"10:57:00\",\"10:58:00\",\"10:59:00\",\"11:00:00\",\"11:01:00\",\"11:02:00\",\"11:03:00\",\"11:04:00\",\"11:05:00\",\"11:06:00\",\"11:07:00\",\"11:08:00\",\"11:09:00\",\"11:10:00\",\"11:11:00\",\"11:12:00\",\"11:13:00\",\"11:14:00\",\"11:15:00\",\"11:16:00\",\"11:17:00\",\"11:18:00\",\"11:19:00\",\"11:20:00\",\"11:21:00\",\"11:22:00\",\"11:23:00\",\"11:24:00\",\"11:25:00\",\"11:26:00\",\"11:27:00\",\"11:28:00\",\"11:29:00\",\"11:30:00\",\"11:31:00\",\"11:32:00\",\"11:33:00\",\"11:34:00\",\"11:35:00\",\"11:36:00\",\"11:37:00\",\"11:38:00\",\"11:39:00\",\"11:40:00\",\"11:41:00\",\"11:42:00\",\"11:43:00\",\"11:44:00\",\"11:45:00\",\"11:46:00\",\"11:47:00\",\"11:48:00\",\"11:49:00\",\"11:50:00\",\"11:51:00\",\"11:52:00\",\"11:53:00\",\"11:54:00\",\"11:55:00\",\"11:56:00\",\"11:57:00\",\"11:58:00\",\"11:59:00\",\"12:00:00\",\"12:01:00\",\"12:02:00\",\"12:03:00\",\"12:04:00\",\"12:05:00\",\"12:06:00\",\"12:07:00\",\"12:08:00\",\"12:09:00\",\"12:10:00\",\"12:11:00\",\"12:12:00\",\"12:13:00\",\"12:14:00\",\"12:15:00\",\"12:16:00\",\"12:17:00\",\"12:18:00\",\"12:19:00\",\"12:20:00\",\"12:21:00\",\"12:22:00\",\"12:23:00\",\"12:24:00\",\"12:25:00\",\"12:26:00\",\"12:27:00\",\"12:28:00\",\"12:29:00\",\"12:30:00\",\"12:31:00\",\"12:32:00\",\"12:33:00\",\"12:34:00\",\"12:35:00\",\"12:36:00\",\"12:37:00\",\"12:38:00\",\"12:39:00\",\"12:40:00\",\"12:41:00\",\"12:42:00\",\"12:43:00\",\"12:44:00\",\"12:45:00\"],\"xaxis\":\"x\",\"y\":[0,0,0,0,0,0,0,0,0,0,0,0,0,0,0,0,0,0,2,2,2,2,2,2,2,3,3,3,3,4,5,5,8,8,8,8,9,10,12,14,16,19,19,19,19,19,22,22,22,22,27,28,30,35,37,37,39,42,44,44,46,46,54,58,58,61,72,75,83,85,87,87,87,91,94,98,98,108,112,117,120,129,135,141,144,154,158,162,171,173,174,181,191,194,198,209,212,213,216,216,223,227,227,238,241,247,248,255,255,256,263,264,266,270,280,290],\"yaxis\":\"y\"},{\"hovertemplate\":\"variable=2<br>\\u6642\\u523b=%{x}<br>\\u4eba\\u6570 (\\u4eba)=%{y}<extra></extra>\",\"legendgroup\":\"2\",\"line\":{\"color\":\"#00cc96\",\"dash\":\"solid\"},\"mode\":\"lines\",\"name\":\"2\",\"orientation\":\"v\",\"showlegend\":true,\"type\":\"scatter\",\"x\":[\"10:50:00\",\"10:51:00\",\"10:52:00\",\"10:53:00\",\"10:54:00\",\"10:55:00\",\"10:56:00\",\"10:57:00\",\"10:58:00\",\"10:59:00\",\"11:00:00\",\"11:01:00\",\"11:02:00\",\"11:03:00\",\"11:04:00\",\"11:05:00\",\"11:06:00\",\"11:07:00\",\"11:08:00\",\"11:09:00\",\"11:10:00\",\"11:11:00\",\"11:12:00\",\"11:13:00\",\"11:14:00\",\"11:15:00\",\"11:16:00\",\"11:17:00\",\"11:18:00\",\"11:19:00\",\"11:20:00\",\"11:21:00\",\"11:22:00\",\"11:23:00\",\"11:24:00\",\"11:25:00\",\"11:26:00\",\"11:27:00\",\"11:28:00\",\"11:29:00\",\"11:30:00\",\"11:31:00\",\"11:32:00\",\"11:33:00\",\"11:34:00\",\"11:35:00\",\"11:36:00\",\"11:37:00\",\"11:38:00\",\"11:39:00\",\"11:40:00\",\"11:41:00\",\"11:42:00\",\"11:43:00\",\"11:44:00\",\"11:45:00\",\"11:46:00\",\"11:47:00\",\"11:48:00\",\"11:49:00\",\"11:50:00\",\"11:51:00\",\"11:52:00\",\"11:53:00\",\"11:54:00\",\"11:55:00\",\"11:56:00\",\"11:57:00\",\"11:58:00\",\"11:59:00\",\"12:00:00\",\"12:01:00\",\"12:02:00\",\"12:03:00\",\"12:04:00\",\"12:05:00\",\"12:06:00\",\"12:07:00\",\"12:08:00\",\"12:09:00\",\"12:10:00\",\"12:11:00\",\"12:12:00\",\"12:13:00\",\"12:14:00\",\"12:15:00\",\"12:16:00\",\"12:17:00\",\"12:18:00\",\"12:19:00\",\"12:20:00\",\"12:21:00\",\"12:22:00\",\"12:23:00\",\"12:24:00\",\"12:25:00\",\"12:26:00\",\"12:27:00\",\"12:28:00\",\"12:29:00\",\"12:30:00\",\"12:31:00\",\"12:32:00\",\"12:33:00\",\"12:34:00\",\"12:35:00\",\"12:36:00\",\"12:37:00\",\"12:38:00\",\"12:39:00\",\"12:40:00\",\"12:41:00\",\"12:42:00\",\"12:43:00\",\"12:44:00\",\"12:45:00\"],\"xaxis\":\"x\",\"y\":[0,0,0,0,0,0,0,0,0,0,0,0,2,2,2,3,3,4,6,6,6,6,6,6,7,8,8,8,8,9,9,9,11,12,13,14,14,14,18,19,20,23,26,29,30,31,31,32,32,34,34,35,37,39,42,46,48,49,54,56,57,58,63,64,64,66,66,66,71,76,79,80,82,84,90,92,93,94,99,105,109,109,117,125,133,148,155,163,185,194,198,217,231,237,244,248,261,267,274,283,288,292,304,311,325,333,350,369,380,388,396,402,411,428,441,446],\"yaxis\":\"y\"}],                        {\"legend\":{\"title\":{\"text\":\"variable\"},\"tracegroupgap\":0},\"margin\":{\"t\":60},\"template\":{\"data\":{\"bar\":[{\"error_x\":{\"color\":\"#2a3f5f\"},\"error_y\":{\"color\":\"#2a3f5f\"},\"marker\":{\"line\":{\"color\":\"#E5ECF6\",\"width\":0.5},\"pattern\":{\"fillmode\":\"overlay\",\"size\":10,\"solidity\":0.2}},\"type\":\"bar\"}],\"barpolar\":[{\"marker\":{\"line\":{\"color\":\"#E5ECF6\",\"width\":0.5},\"pattern\":{\"fillmode\":\"overlay\",\"size\":10,\"solidity\":0.2}},\"type\":\"barpolar\"}],\"carpet\":[{\"aaxis\":{\"endlinecolor\":\"#2a3f5f\",\"gridcolor\":\"white\",\"linecolor\":\"white\",\"minorgridcolor\":\"white\",\"startlinecolor\":\"#2a3f5f\"},\"baxis\":{\"endlinecolor\":\"#2a3f5f\",\"gridcolor\":\"white\",\"linecolor\":\"white\",\"minorgridcolor\":\"white\",\"startlinecolor\":\"#2a3f5f\"},\"type\":\"carpet\"}],\"choropleth\":[{\"colorbar\":{\"outlinewidth\":0,\"ticks\":\"\"},\"type\":\"choropleth\"}],\"contour\":[{\"colorbar\":{\"outlinewidth\":0,\"ticks\":\"\"},\"colorscale\":[[0.0,\"#0d0887\"],[0.1111111111111111,\"#46039f\"],[0.2222222222222222,\"#7201a8\"],[0.3333333333333333,\"#9c179e\"],[0.4444444444444444,\"#bd3786\"],[0.5555555555555556,\"#d8576b\"],[0.6666666666666666,\"#ed7953\"],[0.7777777777777778,\"#fb9f3a\"],[0.8888888888888888,\"#fdca26\"],[1.0,\"#f0f921\"]],\"type\":\"contour\"}],\"contourcarpet\":[{\"colorbar\":{\"outlinewidth\":0,\"ticks\":\"\"},\"type\":\"contourcarpet\"}],\"heatmap\":[{\"colorbar\":{\"outlinewidth\":0,\"ticks\":\"\"},\"colorscale\":[[0.0,\"#0d0887\"],[0.1111111111111111,\"#46039f\"],[0.2222222222222222,\"#7201a8\"],[0.3333333333333333,\"#9c179e\"],[0.4444444444444444,\"#bd3786\"],[0.5555555555555556,\"#d8576b\"],[0.6666666666666666,\"#ed7953\"],[0.7777777777777778,\"#fb9f3a\"],[0.8888888888888888,\"#fdca26\"],[1.0,\"#f0f921\"]],\"type\":\"heatmap\"}],\"heatmapgl\":[{\"colorbar\":{\"outlinewidth\":0,\"ticks\":\"\"},\"colorscale\":[[0.0,\"#0d0887\"],[0.1111111111111111,\"#46039f\"],[0.2222222222222222,\"#7201a8\"],[0.3333333333333333,\"#9c179e\"],[0.4444444444444444,\"#bd3786\"],[0.5555555555555556,\"#d8576b\"],[0.6666666666666666,\"#ed7953\"],[0.7777777777777778,\"#fb9f3a\"],[0.8888888888888888,\"#fdca26\"],[1.0,\"#f0f921\"]],\"type\":\"heatmapgl\"}],\"histogram\":[{\"marker\":{\"pattern\":{\"fillmode\":\"overlay\",\"size\":10,\"solidity\":0.2}},\"type\":\"histogram\"}],\"histogram2d\":[{\"colorbar\":{\"outlinewidth\":0,\"ticks\":\"\"},\"colorscale\":[[0.0,\"#0d0887\"],[0.1111111111111111,\"#46039f\"],[0.2222222222222222,\"#7201a8\"],[0.3333333333333333,\"#9c179e\"],[0.4444444444444444,\"#bd3786\"],[0.5555555555555556,\"#d8576b\"],[0.6666666666666666,\"#ed7953\"],[0.7777777777777778,\"#fb9f3a\"],[0.8888888888888888,\"#fdca26\"],[1.0,\"#f0f921\"]],\"type\":\"histogram2d\"}],\"histogram2dcontour\":[{\"colorbar\":{\"outlinewidth\":0,\"ticks\":\"\"},\"colorscale\":[[0.0,\"#0d0887\"],[0.1111111111111111,\"#46039f\"],[0.2222222222222222,\"#7201a8\"],[0.3333333333333333,\"#9c179e\"],[0.4444444444444444,\"#bd3786\"],[0.5555555555555556,\"#d8576b\"],[0.6666666666666666,\"#ed7953\"],[0.7777777777777778,\"#fb9f3a\"],[0.8888888888888888,\"#fdca26\"],[1.0,\"#f0f921\"]],\"type\":\"histogram2dcontour\"}],\"mesh3d\":[{\"colorbar\":{\"outlinewidth\":0,\"ticks\":\"\"},\"type\":\"mesh3d\"}],\"parcoords\":[{\"line\":{\"colorbar\":{\"outlinewidth\":0,\"ticks\":\"\"}},\"type\":\"parcoords\"}],\"pie\":[{\"automargin\":true,\"type\":\"pie\"}],\"scatter\":[{\"marker\":{\"colorbar\":{\"outlinewidth\":0,\"ticks\":\"\"}},\"type\":\"scatter\"}],\"scatter3d\":[{\"line\":{\"colorbar\":{\"outlinewidth\":0,\"ticks\":\"\"}},\"marker\":{\"colorbar\":{\"outlinewidth\":0,\"ticks\":\"\"}},\"type\":\"scatter3d\"}],\"scattercarpet\":[{\"marker\":{\"colorbar\":{\"outlinewidth\":0,\"ticks\":\"\"}},\"type\":\"scattercarpet\"}],\"scattergeo\":[{\"marker\":{\"colorbar\":{\"outlinewidth\":0,\"ticks\":\"\"}},\"type\":\"scattergeo\"}],\"scattergl\":[{\"marker\":{\"colorbar\":{\"outlinewidth\":0,\"ticks\":\"\"}},\"type\":\"scattergl\"}],\"scattermapbox\":[{\"marker\":{\"colorbar\":{\"outlinewidth\":0,\"ticks\":\"\"}},\"type\":\"scattermapbox\"}],\"scatterpolar\":[{\"marker\":{\"colorbar\":{\"outlinewidth\":0,\"ticks\":\"\"}},\"type\":\"scatterpolar\"}],\"scatterpolargl\":[{\"marker\":{\"colorbar\":{\"outlinewidth\":0,\"ticks\":\"\"}},\"type\":\"scatterpolargl\"}],\"scatterternary\":[{\"marker\":{\"colorbar\":{\"outlinewidth\":0,\"ticks\":\"\"}},\"type\":\"scatterternary\"}],\"surface\":[{\"colorbar\":{\"outlinewidth\":0,\"ticks\":\"\"},\"colorscale\":[[0.0,\"#0d0887\"],[0.1111111111111111,\"#46039f\"],[0.2222222222222222,\"#7201a8\"],[0.3333333333333333,\"#9c179e\"],[0.4444444444444444,\"#bd3786\"],[0.5555555555555556,\"#d8576b\"],[0.6666666666666666,\"#ed7953\"],[0.7777777777777778,\"#fb9f3a\"],[0.8888888888888888,\"#fdca26\"],[1.0,\"#f0f921\"]],\"type\":\"surface\"}],\"table\":[{\"cells\":{\"fill\":{\"color\":\"#EBF0F8\"},\"line\":{\"color\":\"white\"}},\"header\":{\"fill\":{\"color\":\"#C8D4E3\"},\"line\":{\"color\":\"white\"}},\"type\":\"table\"}]},\"layout\":{\"annotationdefaults\":{\"arrowcolor\":\"#2a3f5f\",\"arrowhead\":0,\"arrowwidth\":1},\"autotypenumbers\":\"strict\",\"coloraxis\":{\"colorbar\":{\"outlinewidth\":0,\"ticks\":\"\"}},\"colorscale\":{\"diverging\":[[0,\"#8e0152\"],[0.1,\"#c51b7d\"],[0.2,\"#de77ae\"],[0.3,\"#f1b6da\"],[0.4,\"#fde0ef\"],[0.5,\"#f7f7f7\"],[0.6,\"#e6f5d0\"],[0.7,\"#b8e186\"],[0.8,\"#7fbc41\"],[0.9,\"#4d9221\"],[1,\"#276419\"]],\"sequential\":[[0.0,\"#0d0887\"],[0.1111111111111111,\"#46039f\"],[0.2222222222222222,\"#7201a8\"],[0.3333333333333333,\"#9c179e\"],[0.4444444444444444,\"#bd3786\"],[0.5555555555555556,\"#d8576b\"],[0.6666666666666666,\"#ed7953\"],[0.7777777777777778,\"#fb9f3a\"],[0.8888888888888888,\"#fdca26\"],[1.0,\"#f0f921\"]],\"sequentialminus\":[[0.0,\"#0d0887\"],[0.1111111111111111,\"#46039f\"],[0.2222222222222222,\"#7201a8\"],[0.3333333333333333,\"#9c179e\"],[0.4444444444444444,\"#bd3786\"],[0.5555555555555556,\"#d8576b\"],[0.6666666666666666,\"#ed7953\"],[0.7777777777777778,\"#fb9f3a\"],[0.8888888888888888,\"#fdca26\"],[1.0,\"#f0f921\"]]},\"colorway\":[\"#636efa\",\"#EF553B\",\"#00cc96\",\"#ab63fa\",\"#FFA15A\",\"#19d3f3\",\"#FF6692\",\"#B6E880\",\"#FF97FF\",\"#FECB52\"],\"font\":{\"color\":\"#2a3f5f\"},\"geo\":{\"bgcolor\":\"white\",\"lakecolor\":\"white\",\"landcolor\":\"#E5ECF6\",\"showlakes\":true,\"showland\":true,\"subunitcolor\":\"white\"},\"hoverlabel\":{\"align\":\"left\"},\"hovermode\":\"closest\",\"mapbox\":{\"style\":\"light\"},\"paper_bgcolor\":\"white\",\"plot_bgcolor\":\"#E5ECF6\",\"polar\":{\"angularaxis\":{\"gridcolor\":\"white\",\"linecolor\":\"white\",\"ticks\":\"\"},\"bgcolor\":\"#E5ECF6\",\"radialaxis\":{\"gridcolor\":\"white\",\"linecolor\":\"white\",\"ticks\":\"\"}},\"scene\":{\"xaxis\":{\"backgroundcolor\":\"#E5ECF6\",\"gridcolor\":\"white\",\"gridwidth\":2,\"linecolor\":\"white\",\"showbackground\":true,\"ticks\":\"\",\"zerolinecolor\":\"white\"},\"yaxis\":{\"backgroundcolor\":\"#E5ECF6\",\"gridcolor\":\"white\",\"gridwidth\":2,\"linecolor\":\"white\",\"showbackground\":true,\"ticks\":\"\",\"zerolinecolor\":\"white\"},\"zaxis\":{\"backgroundcolor\":\"#E5ECF6\",\"gridcolor\":\"white\",\"gridwidth\":2,\"linecolor\":\"white\",\"showbackground\":true,\"ticks\":\"\",\"zerolinecolor\":\"white\"}},\"shapedefaults\":{\"line\":{\"color\":\"#2a3f5f\"}},\"ternary\":{\"aaxis\":{\"gridcolor\":\"white\",\"linecolor\":\"white\",\"ticks\":\"\"},\"baxis\":{\"gridcolor\":\"white\",\"linecolor\":\"white\",\"ticks\":\"\"},\"bgcolor\":\"#E5ECF6\",\"caxis\":{\"gridcolor\":\"white\",\"linecolor\":\"white\",\"ticks\":\"\"}},\"title\":{\"x\":0.05},\"xaxis\":{\"automargin\":true,\"gridcolor\":\"white\",\"linecolor\":\"white\",\"ticks\":\"\",\"title\":{\"standoff\":15},\"zerolinecolor\":\"white\",\"zerolinewidth\":2},\"yaxis\":{\"automargin\":true,\"gridcolor\":\"white\",\"linecolor\":\"white\",\"ticks\":\"\",\"title\":{\"standoff\":15},\"zerolinecolor\":\"white\",\"zerolinewidth\":2}}},\"title\":{\"text\":\"\\u98df\\u5802\\u306b\\u9000\\u5e97\\u3057\\u305f\\u4eba\\u6570\\u306e\\u7d2f\\u7a4d\",\"x\":0.5,\"xanchor\":\"center\",\"y\":0.95,\"yanchor\":\"top\"},\"xaxis\":{\"anchor\":\"y\",\"domain\":[0.0,1.0],\"title\":{\"text\":\"\\u6642\\u523b\"}},\"yaxis\":{\"anchor\":\"x\",\"domain\":[0.0,1.0],\"title\":{\"text\":\"\\u4eba\\u6570 (\\u4eba)\"}}},                        {\"responsive\": true}                    ).then(function(){\n",
              "                            \n",
              "var gd = document.getElementById('ccfcad1e-110e-4dfb-9622-a473096973a9');\n",
              "var x = new MutationObserver(function (mutations, observer) {{\n",
              "        var display = window.getComputedStyle(gd).display;\n",
              "        if (!display || display === 'none') {{\n",
              "            console.log([gd, 'removed!']);\n",
              "            Plotly.purge(gd);\n",
              "            observer.disconnect();\n",
              "        }}\n",
              "}});\n",
              "\n",
              "// Listen for the removal of the full notebook cells\n",
              "var notebookContainer = gd.closest('#notebook-container');\n",
              "if (notebookContainer) {{\n",
              "    x.observe(notebookContainer, {childList: true});\n",
              "}}\n",
              "\n",
              "// Listen for the clearing of the current output cell\n",
              "var outputEl = gd.closest('.output');\n",
              "if (outputEl) {{\n",
              "    x.observe(outputEl, {childList: true});\n",
              "}}\n",
              "\n",
              "                        })                };                            </script>        </div>\n",
              "</body>\n",
              "</html>"
            ]
          },
          "metadata": {
            "tags": []
          }
        }
      ]
    },
    {
      "cell_type": "markdown",
      "metadata": {
        "id": "PsSD1RBnhWT9"
      },
      "source": [
        "### Bluetooth 検出台数\n",
        "\n",
        "\n",
        "2台の Raspberry Pi から受け取ったデータは、 Web サーバ内で和集合し重複を削除している。線形回帰で調整はしていない。"
      ]
    },
    {
      "cell_type": "markdown",
      "metadata": {
        "id": "iWdnY5A2ml63"
      },
      "source": [
        "### Bluetooth 検出台数と滞在者数の比較\n",
        "\n",
        "$$累積入場者数 - 累積退場者数$$ である時刻 `t` での滞在者数を求められる。\n",
        "\n",
        "計測開始時、食堂内にいた人は食堂のおばちゃん5人を初期値としている。\n",
        "\n",
        "Z 号館の計測では、初期値を摂り忘れていたため初期値を食堂のおばちゃんのみにしている。"
      ]
    },
    {
      "cell_type": "markdown",
      "metadata": {
        "id": "jJMW4YANAm_9"
      },
      "source": [
        "店内滞在者数\n"
      ]
    },
    {
      "cell_type": "code",
      "metadata": {
        "colab": {
          "base_uri": "https://localhost:8080/",
          "height": 404
        },
        "id": "5ktD8QuAAqB7",
        "outputId": "919e734f-e3e7-4243-9a41-824beb56a4ec"
      },
      "source": [
        "df_05_stay = df_05_entry - df_05_exit\n",
        "df_06_stay = df_06_entry - df_06_exit\n",
        "df_07_stay = df_07_entry - df_07_exit\n",
        "\n",
        "\n",
        "df_05_stay += 5\n",
        "df_06_stay += 5\n",
        "df_07_stay += 5\n",
        "\n",
        "\n",
        "df_stay = pd.concat([df_05_stay, df_06_stay, df_07_stay], axis=1) \n",
        "\n",
        "fig = plt.figure(figsize=(10,5))\n",
        "plt.grid()\n",
        "\n",
        "plt.plot(df_stay)\n",
        "\n",
        "ticks = 10\n",
        "plt.xticks(range(0, len(df_stay), ticks), rotation=45)\n",
        "\n",
        "title = '目視でカウントした実際の店内の人数'\n",
        "plt.xlabel('時刻 [分]')\n",
        "plt.ylabel('人数 [人]')\n",
        "\n",
        "plt.grid()\n",
        "fig.text(0.25, -0.15, title, fontsize=16)\n",
        "\n",
        "plt.show()   "
      ],
      "execution_count": null,
      "outputs": [
        {
          "output_type": "display_data",
          "data": {
            "image/png": "[encoded data removed]",
            "text/plain": [
              "<Figure size 720x360 with 1 Axes>"
            ]
          },
          "metadata": {
            "tags": []
          }
        }
      ]
    },
    {
      "cell_type": "code",
      "metadata": {
        "colab": {
          "base_uri": "https://localhost:8080/",
          "height": 404
        },
        "id": "cZLSGIZeIZja",
        "outputId": "a91b082f-f02f-4574-a3a2-f521250c3b35"
      },
      "source": [
        "df_rasp = pd.concat([df_rasp_07], axis=1) \n",
        "\n",
        "df_rasp = df_rasp.interpolate()\n",
        "pd.plotting.register_matplotlib_converters()\n",
        "fig = plt.figure(figsize=(10,5))\n",
        "plt.grid()\n",
        "\n",
        "plt.plot(df_rasp)\n",
        "\n",
        "plt.xticks(rotation=45)\n",
        "\n",
        "title = 'Bluetooth 検出台数'\n",
        "plt.xlabel('時刻 [分]')\n",
        "plt.ylabel('Raspberry Pi が検出した台数 [台]')\n",
        "\n",
        "plt.grid()\n",
        "fig.text(0.4, -0.15, title, fontsize=16)\n",
        "\n",
        "plt.show()   "
      ],
      "execution_count": null,
      "outputs": [
        {
          "output_type": "display_data",
          "data": {
            "image/png": "[encoded data removed]",
            "text/plain": [
              "<Figure size 720x360 with 1 Axes>"
            ]
          },
          "metadata": {
            "tags": []
          }
        }
      ]
    },
    {
      "cell_type": "markdown",
      "metadata": {
        "id": "7_OWyeTd8nUv"
      },
      "source": [
        "#### Bluetooth 検出台数と滞在者数の差分を算出\n",
        "\n",
        "10:50と2限終わりの12:16、12:24あたりに差分が大きい。"
      ]
    },
    {
      "cell_type": "markdown",
      "metadata": {
        "id": "qhgmzZ094yoP"
      },
      "source": [
        "## 線型回帰"
      ]
    },
    {
      "cell_type": "code",
      "metadata": {
        "id": "maHRBy1APKAD"
      },
      "source": [
        "df_rasp = df_rasp.mean(axis='columns')\n",
        "df_stay = df_stay.mean(axis='columns')"
      ],
      "execution_count": null,
      "outputs": []
    },
    {
      "cell_type": "code",
      "metadata": {
        "colab": {
          "base_uri": "https://localhost:8080/",
          "height": 268
        },
        "id": "4-nrs3ez045k",
        "outputId": "1be44f0d-ec19-45b4-a0d1-7e9fbeec53ea"
      },
      "source": [
        "plt.grid()\n",
        "plt.scatter(df_rasp, df_stay) # 散布図をプロット\n",
        "\n",
        "plt.show() "
      ],
      "execution_count": null,
      "outputs": [
        {
          "output_type": "display_data",
          "data": {
            "image/png": "[encoded data removed]",
            "text/plain": [
              "<Figure size 432x288 with 1 Axes>"
            ]
          },
          "metadata": {
            "tags": []
          }
        }
      ]
    },
    {
      "cell_type": "code",
      "metadata": {
        "id": "QqhEhx0GQMlT",
        "colab": {
          "base_uri": "https://localhost:8080/",
          "height": 445
        },
        "outputId": "5246fe99-2770-4ee4-e366-1e2bc9acc98e"
      },
      "source": [
        "# Series を DataFrame に変換\n",
        "df_rasp = df_rasp.to_frame()\n",
        "df_stay = df_stay.to_frame()\n",
        "\n",
        "df_rasp\n",
        "df_stay"
      ],
      "execution_count": null,
      "outputs": [
        {
          "output_type": "execute_result",
          "data": {
            "text/html": [
              "<div>\n",
              "<style scoped>\n",
              "    .dataframe tbody tr th:only-of-type {\n",
              "        vertical-align: middle;\n",
              "    }\n",
              "\n",
              "    .dataframe tbody tr th {\n",
              "        vertical-align: top;\n",
              "    }\n",
              "\n",
              "    .dataframe thead th {\n",
              "        text-align: right;\n",
              "    }\n",
              "</style>\n",
              "<table border=\"1\" class=\"dataframe\">\n",
              "  <thead>\n",
              "    <tr style=\"text-align: right;\">\n",
              "      <th></th>\n",
              "      <th>0</th>\n",
              "    </tr>\n",
              "    <tr>\n",
              "      <th>時刻</th>\n",
              "      <th></th>\n",
              "    </tr>\n",
              "  </thead>\n",
              "  <tbody>\n",
              "    <tr>\n",
              "      <th>10:50:00</th>\n",
              "      <td>4.666667</td>\n",
              "    </tr>\n",
              "    <tr>\n",
              "      <th>10:51:00</th>\n",
              "      <td>4.333333</td>\n",
              "    </tr>\n",
              "    <tr>\n",
              "      <th>10:52:00</th>\n",
              "      <td>4.333333</td>\n",
              "    </tr>\n",
              "    <tr>\n",
              "      <th>10:53:00</th>\n",
              "      <td>4.333333</td>\n",
              "    </tr>\n",
              "    <tr>\n",
              "      <th>10:54:00</th>\n",
              "      <td>4.333333</td>\n",
              "    </tr>\n",
              "    <tr>\n",
              "      <th>...</th>\n",
              "      <td>...</td>\n",
              "    </tr>\n",
              "    <tr>\n",
              "      <th>12:41:00</th>\n",
              "      <td>-31.000000</td>\n",
              "    </tr>\n",
              "    <tr>\n",
              "      <th>12:42:00</th>\n",
              "      <td>-32.666667</td>\n",
              "    </tr>\n",
              "    <tr>\n",
              "      <th>12:43:00</th>\n",
              "      <td>-35.333333</td>\n",
              "    </tr>\n",
              "    <tr>\n",
              "      <th>12:44:00</th>\n",
              "      <td>-42.666667</td>\n",
              "    </tr>\n",
              "    <tr>\n",
              "      <th>12:45:00</th>\n",
              "      <td>-45.666667</td>\n",
              "    </tr>\n",
              "  </tbody>\n",
              "</table>\n",
              "<p>116 rows × 1 columns</p>\n",
              "</div>"
            ],
            "text/plain": [
              "                  0\n",
              "時刻                 \n",
              "10:50:00   4.666667\n",
              "10:51:00   4.333333\n",
              "10:52:00   4.333333\n",
              "10:53:00   4.333333\n",
              "10:54:00   4.333333\n",
              "...             ...\n",
              "12:41:00 -31.000000\n",
              "12:42:00 -32.666667\n",
              "12:43:00 -35.333333\n",
              "12:44:00 -42.666667\n",
              "12:45:00 -45.666667\n",
              "\n",
              "[116 rows x 1 columns]"
            ]
          },
          "metadata": {
            "tags": []
          },
          "execution_count": 19
        }
      ]
    },
    {
      "cell_type": "code",
      "metadata": {
        "colab": {
          "base_uri": "https://localhost:8080/"
        },
        "id": "cB2jk_gz1dwQ",
        "outputId": "582b57d4-ec97-4014-becf-d10fd64d9784"
      },
      "source": [
        "from sklearn.linear_model import LinearRegression\n",
        "lr = LinearRegression()\n",
        "\n",
        "# 説明変数\n",
        "X = df_stay.values\n",
        "# 目的変数\n",
        "Y = df_rasp.values\n",
        "\n",
        "lr.fit(X, Y)  "
      ],
      "execution_count": null,
      "outputs": [
        {
          "output_type": "execute_result",
          "data": {
            "text/plain": [
              "LinearRegression(copy_X=True, fit_intercept=True, n_jobs=None, normalize=False)"
            ]
          },
          "metadata": {
            "tags": []
          },
          "execution_count": 20
        }
      ]
    },
    {
      "cell_type": "code",
      "metadata": {
        "colab": {
          "base_uri": "https://localhost:8080/",
          "height": 315
        },
        "id": "TZDhwWr82M2Q",
        "outputId": "d77e16de-d243-47af-a710-819e485caee6"
      },
      "source": [
        "fig = plt.figure()\n",
        "plt.grid()\n",
        "plt.scatter(X, Y, color = 'blue')         # 説明変数と目的変数のデータ点の散布図をプロット\n",
        "plt.plot(X, lr.predict(X), color = 'red') # 回帰直線をプロット\n",
        "\n",
        "title = '検出数と滞在者数の関係(計測5回平均)'            # 図のタイトル\n",
        "plt.xlabel('Raspberry Pi が検出した台数 [台]') # x軸のラベル\n",
        "plt.ylabel('滞在者数 [人]')    # y軸のラベル\n",
        "plt.grid()                                 # グリッド線を表示\n",
        "fig.text(0.2, -0.1, title, fontsize=16)\n",
        "\n",
        "plt.show()    "
      ],
      "execution_count": null,
      "outputs": [
        {
          "output_type": "display_data",
          "data": {
            "image/png": "[encoded data removed]",
            "text/plain": [
              "<Figure size 432x288 with 1 Axes>"
            ]
          },
          "metadata": {
            "tags": []
          }
        }
      ]
    },
    {
      "cell_type": "code",
      "metadata": {
        "colab": {
          "base_uri": "https://localhost:8080/"
        },
        "id": "Hb9rl3fqVdpY",
        "outputId": "9c0173e4-7d6c-4069-cabe-4e324f144a4b"
      },
      "source": [
        "print('coefficient = ', lr.coef_[0]) # 説明変数の係数を出力\n",
        "print('intercept = ', lr.intercept_) # 切片を出力"
      ],
      "execution_count": null,
      "outputs": [
        {
          "output_type": "stream",
          "text": [
            "coefficient =  [0.09795927]\n",
            "intercept =  [104.36083643]\n"
          ],
          "name": "stdout"
        }
      ]
    },
    {
      "cell_type": "markdown",
      "metadata": {
        "id": "QViOiZyhWjh8"
      },
      "source": [
        "\n",
        "$y_t = 0.09795927x_t + 104.36083643 +\\varepsilon_t$\n",
        "\n",
        "ここでやりたいことは検出数から実際にいる人数を求めることなので，\n",
        "\n",
        "$x_t \\sim \\frac{y_t-0.09795927}{104.36083643}$となる．"
      ]
    },
    {
      "cell_type": "code",
      "metadata": {
        "colab": {
          "base_uri": "https://localhost:8080/",
          "height": 344
        },
        "id": "68hhG6rGdIkN",
        "outputId": "e03d34e8-3f55-47bf-fbf7-ebc97cf0eca5"
      },
      "source": [
        "fig = plt.figure()\n",
        "plt.grid()\n",
        "\n",
        "df_estimated = (df_stay - 34.49980095)/0.7412933\n",
        "\n",
        "plt.plot(df_stay, color=\"blue\")\n",
        "plt.plot(df_estimated, color=\"red\")\n",
        "\n",
        "ticks = 10\n",
        "plt.xticks(range(0, len(df_stay), ticks), rotation=45)\n",
        "\n",
        "title = '線型回帰の推定'\n",
        "plt.xlabel('時刻[分]') # x軸のラベル\n",
        "plt.ylabel('滞在者数 [人]')    # y軸のラベル\n",
        "plt.grid()                                 # グリッド線を表示\n",
        "fig.text(0.4, -0.2, title, fontsize=16)\n",
        "\n",
        "plt.show()"
      ],
      "execution_count": null,
      "outputs": [
        {
          "output_type": "display_data",
          "data": {
            "image/png": "[encoded data removed]",
            "text/plain": [
              "<Figure size 432x288 with 1 Axes>"
            ]
          },
          "metadata": {
            "tags": []
          }
        }
      ]
    },
    {
      "cell_type": "code",
      "metadata": {
        "colab": {
          "base_uri": "https://localhost:8080/",
          "height": 232
        },
        "id": "C1_gpfscUriE",
        "outputId": "c8273304-1d58-4f32-df1b-8fea54aee54a"
      },
      "source": [
        "df_rasp.head()"
      ],
      "execution_count": null,
      "outputs": [
        {
          "output_type": "execute_result",
          "data": {
            "text/html": [
              "<div>\n",
              "<style scoped>\n",
              "    .dataframe tbody tr th:only-of-type {\n",
              "        vertical-align: middle;\n",
              "    }\n",
              "\n",
              "    .dataframe tbody tr th {\n",
              "        vertical-align: top;\n",
              "    }\n",
              "\n",
              "    .dataframe thead th {\n",
              "        text-align: right;\n",
              "    }\n",
              "</style>\n",
              "<table border=\"1\" class=\"dataframe\">\n",
              "  <thead>\n",
              "    <tr style=\"text-align: right;\">\n",
              "      <th></th>\n",
              "      <th>0</th>\n",
              "    </tr>\n",
              "    <tr>\n",
              "      <th>date</th>\n",
              "      <th></th>\n",
              "    </tr>\n",
              "  </thead>\n",
              "  <tbody>\n",
              "    <tr>\n",
              "      <th>2021-07-07 10:50:00</th>\n",
              "      <td>72.0</td>\n",
              "    </tr>\n",
              "    <tr>\n",
              "      <th>2021-07-07 10:51:00</th>\n",
              "      <td>71.0</td>\n",
              "    </tr>\n",
              "    <tr>\n",
              "      <th>2021-07-07 10:52:00</th>\n",
              "      <td>79.0</td>\n",
              "    </tr>\n",
              "    <tr>\n",
              "      <th>2021-07-07 10:53:00</th>\n",
              "      <td>75.0</td>\n",
              "    </tr>\n",
              "    <tr>\n",
              "      <th>2021-07-07 10:54:00</th>\n",
              "      <td>70.0</td>\n",
              "    </tr>\n",
              "  </tbody>\n",
              "</table>\n",
              "</div>"
            ],
            "text/plain": [
              "                        0\n",
              "date                     \n",
              "2021-07-07 10:50:00  72.0\n",
              "2021-07-07 10:51:00  71.0\n",
              "2021-07-07 10:52:00  79.0\n",
              "2021-07-07 10:53:00  75.0\n",
              "2021-07-07 10:54:00  70.0"
            ]
          },
          "metadata": {
            "tags": []
          },
          "execution_count": 24
        }
      ]
    },
    {
      "cell_type": "code",
      "metadata": {
        "colab": {
          "base_uri": "https://localhost:8080/",
          "height": 284
        },
        "id": "G1lg_Hhp3Tvs",
        "outputId": "53d7bda5-d143-4dd3-f33e-2e556427c6e5"
      },
      "source": [
        "import scipy\n",
        "df_rasp_z = df_rasp.apply(scipy.stats.zscore, axis=0)\n",
        "df_rasp_z.plot()\n",
        "df_rasp_z =  df_rasp_z.reset_index()"
      ],
      "execution_count": null,
      "outputs": [
        {
          "output_type": "display_data",
          "data": {
            "image/png": "[encoded data removed]",
            "text/plain": [
              "<Figure size 432x288 with 1 Axes>"
            ]
          },
          "metadata": {
            "tags": []
          }
        }
      ]
    },
    {
      "cell_type": "code",
      "metadata": {
        "id": "lK06xrPd-YDL"
      },
      "source": [
        "df_rasp_z = df_rasp_z.drop(columns=['date'], axis=1)\n"
      ],
      "execution_count": null,
      "outputs": []
    },
    {
      "cell_type": "code",
      "metadata": {
        "colab": {
          "base_uri": "https://localhost:8080/"
        },
        "id": "G9SzQnN08wrg",
        "outputId": "1eeb7bde-3e81-4a69-8dfb-a9cf550daa48"
      },
      "source": [
        "from statsmodels.tsa.arima_model import ARIMA\n",
        "import statsmodels.api as sm\n",
        "params = sm.tsa.arma_order_select_ic(df_rasp, ic='aic', trend='nc')\n",
        "params"
      ],
      "execution_count": null,
      "outputs": [
        {
          "output_type": "stream",
          "text": [
            "/usr/local/lib/python3.7/dist-packages/statsmodels/tools/_testing.py:19: FutureWarning:\n",
            "\n",
            "pandas.util.testing is deprecated. Use the functions in the public API at pandas.testing instead.\n",
            "\n",
            "/usr/local/lib/python3.7/dist-packages/statsmodels/base/model.py:492: HessianInversionWarning:\n",
            "\n",
            "Inverting hessian failed, no bse or cov_params available\n",
            "\n"
          ],
          "name": "stderr"
        },
        {
          "output_type": "execute_result",
          "data": {
            "text/plain": [
              "{'aic':             0            1            2\n",
              " 0         NaN  1282.678622  1175.348413\n",
              " 1  869.264790   864.961609   863.859627\n",
              " 2  883.114684   871.763257   861.551654\n",
              " 3  861.175365   860.944570   885.811293\n",
              " 4  862.279785   862.594250   864.466568, 'aic_min_order': (3, 1)}"
            ]
          },
          "metadata": {
            "tags": []
          },
          "execution_count": 27
        }
      ]
    },
    {
      "cell_type": "code",
      "metadata": {
        "colab": {
          "base_uri": "https://localhost:8080/",
          "height": 426
        },
        "id": "C_1HUg7E-IqK",
        "outputId": "7bb8c99a-2c5a-4845-98ac-fe2997d9116d"
      },
      "source": [
        "arima_model = ARIMA(df_rasp, order=(0,1,2)).fit(dist=False)\n",
        "resid = arima_model.resid\n",
        "plt.plot(resid)"
      ],
      "execution_count": null,
      "outputs": [
        {
          "output_type": "stream",
          "text": [
            "/usr/local/lib/python3.7/dist-packages/statsmodels/tsa/base/tsa_model.py:165: ValueWarning:\n",
            "\n",
            "No frequency information was provided, so inferred frequency T will be used.\n",
            "\n"
          ],
          "name": "stderr"
        },
        {
          "output_type": "error",
          "ename": "TypeError",
          "evalue": "ignored",
          "traceback": [
            "\u001b[0;31m---------------------------------------------------------------------------\u001b[0m",
            "\u001b[0;31mTypeError\u001b[0m                                 Traceback (most recent call last)",
            "\u001b[0;32m<ipython-input-28-142ce798945b>\u001b[0m in \u001b[0;36m<module>\u001b[0;34m()\u001b[0m\n\u001b[0;32m----> 1\u001b[0;31m \u001b[0marima_model\u001b[0m \u001b[0;34m=\u001b[0m \u001b[0mARIMA\u001b[0m\u001b[0;34m(\u001b[0m\u001b[0mdf_rasp\u001b[0m\u001b[0;34m,\u001b[0m \u001b[0morder\u001b[0m\u001b[0;34m=\u001b[0m\u001b[0;34m(\u001b[0m\u001b[0;36m0\u001b[0m\u001b[0;34m,\u001b[0m\u001b[0;36m1\u001b[0m\u001b[0;34m,\u001b[0m\u001b[0;36m2\u001b[0m\u001b[0;34m)\u001b[0m\u001b[0;34m)\u001b[0m\u001b[0;34m.\u001b[0m\u001b[0mfit\u001b[0m\u001b[0;34m(\u001b[0m\u001b[0mdist\u001b[0m\u001b[0;34m=\u001b[0m\u001b[0;32mFalse\u001b[0m\u001b[0;34m)\u001b[0m\u001b[0;34m\u001b[0m\u001b[0;34m\u001b[0m\u001b[0m\n\u001b[0m\u001b[1;32m      2\u001b[0m \u001b[0mresid\u001b[0m \u001b[0;34m=\u001b[0m \u001b[0marima_model\u001b[0m\u001b[0;34m.\u001b[0m\u001b[0mresid\u001b[0m\u001b[0;34m\u001b[0m\u001b[0;34m\u001b[0m\u001b[0m\n\u001b[1;32m      3\u001b[0m \u001b[0mplt\u001b[0m\u001b[0;34m.\u001b[0m\u001b[0mplot\u001b[0m\u001b[0;34m(\u001b[0m\u001b[0mresid\u001b[0m\u001b[0;34m)\u001b[0m\u001b[0;34m\u001b[0m\u001b[0;34m\u001b[0m\u001b[0m\n",
            "\u001b[0;32m/usr/local/lib/python3.7/dist-packages/statsmodels/tsa/arima_model.py\u001b[0m in \u001b[0;36m__new__\u001b[0;34m(cls, endog, order, exog, dates, freq, missing)\u001b[0m\n\u001b[1;32m    986\u001b[0m         \u001b[0;32melse\u001b[0m\u001b[0;34m:\u001b[0m\u001b[0;34m\u001b[0m\u001b[0;34m\u001b[0m\u001b[0m\n\u001b[1;32m    987\u001b[0m             \u001b[0mmod\u001b[0m \u001b[0;34m=\u001b[0m \u001b[0msuper\u001b[0m\u001b[0;34m(\u001b[0m\u001b[0mARIMA\u001b[0m\u001b[0;34m,\u001b[0m \u001b[0mcls\u001b[0m\u001b[0;34m)\u001b[0m\u001b[0;34m.\u001b[0m\u001b[0m__new__\u001b[0m\u001b[0;34m(\u001b[0m\u001b[0mcls\u001b[0m\u001b[0;34m)\u001b[0m\u001b[0;34m\u001b[0m\u001b[0;34m\u001b[0m\u001b[0m\n\u001b[0;32m--> 988\u001b[0;31m             \u001b[0mmod\u001b[0m\u001b[0;34m.\u001b[0m\u001b[0m__init__\u001b[0m\u001b[0;34m(\u001b[0m\u001b[0mendog\u001b[0m\u001b[0;34m,\u001b[0m \u001b[0morder\u001b[0m\u001b[0;34m,\u001b[0m \u001b[0mexog\u001b[0m\u001b[0;34m,\u001b[0m \u001b[0mdates\u001b[0m\u001b[0;34m,\u001b[0m \u001b[0mfreq\u001b[0m\u001b[0;34m,\u001b[0m \u001b[0mmissing\u001b[0m\u001b[0;34m)\u001b[0m\u001b[0;34m\u001b[0m\u001b[0;34m\u001b[0m\u001b[0m\n\u001b[0m\u001b[1;32m    989\u001b[0m             \u001b[0;32mreturn\u001b[0m \u001b[0mmod\u001b[0m\u001b[0;34m\u001b[0m\u001b[0;34m\u001b[0m\u001b[0m\n\u001b[1;32m    990\u001b[0m \u001b[0;34m\u001b[0m\u001b[0m\n",
            "\u001b[0;32m/usr/local/lib/python3.7/dist-packages/statsmodels/tsa/arima_model.py\u001b[0m in \u001b[0;36m__init__\u001b[0;34m(self, endog, order, exog, dates, freq, missing)\u001b[0m\n\u001b[1;32m   1014\u001b[0m             \u001b[0mself\u001b[0m\u001b[0;34m.\u001b[0m\u001b[0mexog\u001b[0m \u001b[0;34m=\u001b[0m \u001b[0mself\u001b[0m\u001b[0;34m.\u001b[0m\u001b[0mexog\u001b[0m\u001b[0;34m[\u001b[0m\u001b[0md\u001b[0m\u001b[0;34m:\u001b[0m\u001b[0;34m]\u001b[0m\u001b[0;34m\u001b[0m\u001b[0;34m\u001b[0m\u001b[0m\n\u001b[1;32m   1015\u001b[0m         \u001b[0;32mif\u001b[0m \u001b[0md\u001b[0m \u001b[0;34m==\u001b[0m \u001b[0;36m1\u001b[0m\u001b[0;34m:\u001b[0m\u001b[0;34m\u001b[0m\u001b[0;34m\u001b[0m\u001b[0m\n\u001b[0;32m-> 1016\u001b[0;31m             \u001b[0mself\u001b[0m\u001b[0;34m.\u001b[0m\u001b[0mdata\u001b[0m\u001b[0;34m.\u001b[0m\u001b[0mynames\u001b[0m \u001b[0;34m=\u001b[0m \u001b[0;34m'D.'\u001b[0m \u001b[0;34m+\u001b[0m \u001b[0mself\u001b[0m\u001b[0;34m.\u001b[0m\u001b[0mendog_names\u001b[0m\u001b[0;34m\u001b[0m\u001b[0;34m\u001b[0m\u001b[0m\n\u001b[0m\u001b[1;32m   1017\u001b[0m         \u001b[0;32melse\u001b[0m\u001b[0;34m:\u001b[0m\u001b[0;34m\u001b[0m\u001b[0;34m\u001b[0m\u001b[0m\n\u001b[1;32m   1018\u001b[0m             \u001b[0mself\u001b[0m\u001b[0;34m.\u001b[0m\u001b[0mdata\u001b[0m\u001b[0;34m.\u001b[0m\u001b[0mynames\u001b[0m \u001b[0;34m=\u001b[0m \u001b[0;34m'D{0:d}.'\u001b[0m\u001b[0;34m.\u001b[0m\u001b[0mformat\u001b[0m\u001b[0;34m(\u001b[0m\u001b[0md\u001b[0m\u001b[0;34m)\u001b[0m \u001b[0;34m+\u001b[0m \u001b[0mself\u001b[0m\u001b[0;34m.\u001b[0m\u001b[0mendog_names\u001b[0m\u001b[0;34m\u001b[0m\u001b[0;34m\u001b[0m\u001b[0m\n",
            "\u001b[0;31mTypeError\u001b[0m: can only concatenate str (not \"int\") to str"
          ]
        }
      ]
    },
    {
      "cell_type": "code",
      "metadata": {
        "colab": {
          "base_uri": "https://localhost:8080/",
          "height": 923
        },
        "id": "XfGJdXFE-MTC",
        "outputId": "c2787cb2-ff82-4a64-ca04-138f38442d1f"
      },
      "source": [
        "fig = plt.figure()\n",
        "title = 'ARIMA モデルの予測'            # 図のタイトル\n",
        "plt.xlabel('計測日時 [日時]') # x軸のラベル\n",
        "plt.ylabel('Raspberry Pi が検出した台数 [台]')    # y軸のラベル\n",
        "\n",
        "predict = arima_model.predict('12:40:00', '12:50:00')\n",
        "plt.plot(df_rasp_z) # 実データをプロット\n",
        "\n",
        "plt.xticks(rotation=45)\n",
        "plt.plot(predict) \n",
        "fig.text(0.25, -0.2, title, fontsize=16)"
      ],
      "execution_count": null,
      "outputs": [
        {
          "output_type": "error",
          "ename": "KeyError",
          "evalue": "ignored",
          "traceback": [
            "\u001b[0;31m---------------------------------------------------------------------------\u001b[0m",
            "\u001b[0;31mKeyError\u001b[0m                                  Traceback (most recent call last)",
            "\u001b[0;32m/usr/local/lib/python3.7/dist-packages/pandas/core/indexes/base.py\u001b[0m in \u001b[0;36mget_loc\u001b[0;34m(self, key, method, tolerance)\u001b[0m\n\u001b[1;32m   2897\u001b[0m             \u001b[0;32mtry\u001b[0m\u001b[0;34m:\u001b[0m\u001b[0;34m\u001b[0m\u001b[0;34m\u001b[0m\u001b[0m\n\u001b[0;32m-> 2898\u001b[0;31m                 \u001b[0;32mreturn\u001b[0m \u001b[0mself\u001b[0m\u001b[0;34m.\u001b[0m\u001b[0m_engine\u001b[0m\u001b[0;34m.\u001b[0m\u001b[0mget_loc\u001b[0m\u001b[0;34m(\u001b[0m\u001b[0mcasted_key\u001b[0m\u001b[0;34m)\u001b[0m\u001b[0;34m\u001b[0m\u001b[0;34m\u001b[0m\u001b[0m\n\u001b[0m\u001b[1;32m   2899\u001b[0m             \u001b[0;32mexcept\u001b[0m \u001b[0mKeyError\u001b[0m \u001b[0;32mas\u001b[0m \u001b[0merr\u001b[0m\u001b[0;34m:\u001b[0m\u001b[0;34m\u001b[0m\u001b[0;34m\u001b[0m\u001b[0m\n",
            "\u001b[0;32mpandas/_libs/index.pyx\u001b[0m in \u001b[0;36mpandas._libs.index.IndexEngine.get_loc\u001b[0;34m()\u001b[0m\n",
            "\u001b[0;32mpandas/_libs/index.pyx\u001b[0m in \u001b[0;36mpandas._libs.index.IndexEngine.get_loc\u001b[0;34m()\u001b[0m\n",
            "\u001b[0;32mpandas/_libs/hashtable_class_helper.pxi\u001b[0m in \u001b[0;36mpandas._libs.hashtable.PyObjectHashTable.get_item\u001b[0;34m()\u001b[0m\n",
            "\u001b[0;32mpandas/_libs/hashtable_class_helper.pxi\u001b[0m in \u001b[0;36mpandas._libs.hashtable.PyObjectHashTable.get_item\u001b[0;34m()\u001b[0m\n",
            "\u001b[0;31mKeyError\u001b[0m: '12:40:00'",
            "\nThe above exception was the direct cause of the following exception:\n",
            "\u001b[0;31mKeyError\u001b[0m                                  Traceback (most recent call last)",
            "\u001b[0;32m/usr/local/lib/python3.7/dist-packages/statsmodels/tsa/base/tsa_model.py\u001b[0m in \u001b[0;36m_get_index_label_loc\u001b[0;34m(self, key, base_index)\u001b[0m\n\u001b[1;32m    425\u001b[0m                 \u001b[0;32mif\u001b[0m \u001b[0;32mnot\u001b[0m \u001b[0misinstance\u001b[0m\u001b[0;34m(\u001b[0m\u001b[0mkey\u001b[0m\u001b[0;34m,\u001b[0m \u001b[0;34m(\u001b[0m\u001b[0mint\u001b[0m\u001b[0;34m,\u001b[0m \u001b[0mlong\u001b[0m\u001b[0;34m,\u001b[0m \u001b[0mnp\u001b[0m\u001b[0;34m.\u001b[0m\u001b[0minteger\u001b[0m\u001b[0;34m)\u001b[0m\u001b[0;34m)\u001b[0m\u001b[0;34m:\u001b[0m\u001b[0;34m\u001b[0m\u001b[0;34m\u001b[0m\u001b[0m\n\u001b[0;32m--> 426\u001b[0;31m                     \u001b[0mloc\u001b[0m \u001b[0;34m=\u001b[0m \u001b[0mself\u001b[0m\u001b[0;34m.\u001b[0m\u001b[0mdata\u001b[0m\u001b[0;34m.\u001b[0m\u001b[0mrow_labels\u001b[0m\u001b[0;34m.\u001b[0m\u001b[0mget_loc\u001b[0m\u001b[0;34m(\u001b[0m\u001b[0mkey\u001b[0m\u001b[0;34m)\u001b[0m\u001b[0;34m\u001b[0m\u001b[0;34m\u001b[0m\u001b[0m\n\u001b[0m\u001b[1;32m    427\u001b[0m                 \u001b[0;32melse\u001b[0m\u001b[0;34m:\u001b[0m\u001b[0;34m\u001b[0m\u001b[0;34m\u001b[0m\u001b[0m\n",
            "\u001b[0;32m/usr/local/lib/python3.7/dist-packages/pandas/core/indexes/base.py\u001b[0m in \u001b[0;36mget_loc\u001b[0;34m(self, key, method, tolerance)\u001b[0m\n\u001b[1;32m   2899\u001b[0m             \u001b[0;32mexcept\u001b[0m \u001b[0mKeyError\u001b[0m \u001b[0;32mas\u001b[0m \u001b[0merr\u001b[0m\u001b[0;34m:\u001b[0m\u001b[0;34m\u001b[0m\u001b[0;34m\u001b[0m\u001b[0m\n\u001b[0;32m-> 2900\u001b[0;31m                 \u001b[0;32mraise\u001b[0m \u001b[0mKeyError\u001b[0m\u001b[0;34m(\u001b[0m\u001b[0mkey\u001b[0m\u001b[0;34m)\u001b[0m \u001b[0;32mfrom\u001b[0m \u001b[0merr\u001b[0m\u001b[0;34m\u001b[0m\u001b[0;34m\u001b[0m\u001b[0m\n\u001b[0m\u001b[1;32m   2901\u001b[0m \u001b[0;34m\u001b[0m\u001b[0m\n",
            "\u001b[0;31mKeyError\u001b[0m: '12:40:00'",
            "\nDuring handling of the above exception, another exception occurred:\n",
            "\u001b[0;31mKeyError\u001b[0m                                  Traceback (most recent call last)",
            "\u001b[0;32m<ipython-input-26-c6a6b03f155c>\u001b[0m in \u001b[0;36m<module>\u001b[0;34m()\u001b[0m\n\u001b[1;32m      4\u001b[0m \u001b[0mplt\u001b[0m\u001b[0;34m.\u001b[0m\u001b[0mylabel\u001b[0m\u001b[0;34m(\u001b[0m\u001b[0;34m'Raspberry Pi が検出した台数 [台]'\u001b[0m\u001b[0;34m)\u001b[0m    \u001b[0;31m# y軸のラベル\u001b[0m\u001b[0;34m\u001b[0m\u001b[0;34m\u001b[0m\u001b[0m\n\u001b[1;32m      5\u001b[0m \u001b[0;34m\u001b[0m\u001b[0m\n\u001b[0;32m----> 6\u001b[0;31m \u001b[0mpredict\u001b[0m \u001b[0;34m=\u001b[0m \u001b[0marima_model\u001b[0m\u001b[0;34m.\u001b[0m\u001b[0mpredict\u001b[0m\u001b[0;34m(\u001b[0m\u001b[0;34m'12:40:00'\u001b[0m\u001b[0;34m,\u001b[0m \u001b[0;34m'12:50:00'\u001b[0m\u001b[0;34m)\u001b[0m\u001b[0;34m\u001b[0m\u001b[0;34m\u001b[0m\u001b[0m\n\u001b[0m\u001b[1;32m      7\u001b[0m \u001b[0mplt\u001b[0m\u001b[0;34m.\u001b[0m\u001b[0mplot\u001b[0m\u001b[0;34m(\u001b[0m\u001b[0mdf_rasp_z\u001b[0m\u001b[0;34m)\u001b[0m \u001b[0;31m# 実データをプロット\u001b[0m\u001b[0;34m\u001b[0m\u001b[0;34m\u001b[0m\u001b[0m\n\u001b[1;32m      8\u001b[0m \u001b[0;34m\u001b[0m\u001b[0m\n",
            "\u001b[0;32m/usr/local/lib/python3.7/dist-packages/statsmodels/base/wrapper.py\u001b[0m in \u001b[0;36mwrapper\u001b[0;34m(self, *args, **kwargs)\u001b[0m\n\u001b[1;32m     93\u001b[0m             \u001b[0mobj\u001b[0m \u001b[0;34m=\u001b[0m \u001b[0mdata\u001b[0m\u001b[0;34m.\u001b[0m\u001b[0mwrap_output\u001b[0m\u001b[0;34m(\u001b[0m\u001b[0mfunc\u001b[0m\u001b[0;34m(\u001b[0m\u001b[0mresults\u001b[0m\u001b[0;34m,\u001b[0m \u001b[0;34m*\u001b[0m\u001b[0margs\u001b[0m\u001b[0;34m,\u001b[0m \u001b[0;34m**\u001b[0m\u001b[0mkwargs\u001b[0m\u001b[0;34m)\u001b[0m\u001b[0;34m,\u001b[0m \u001b[0mhow\u001b[0m\u001b[0;34m[\u001b[0m\u001b[0;36m0\u001b[0m\u001b[0;34m]\u001b[0m\u001b[0;34m,\u001b[0m \u001b[0mhow\u001b[0m\u001b[0;34m[\u001b[0m\u001b[0;36m1\u001b[0m\u001b[0;34m:\u001b[0m\u001b[0;34m]\u001b[0m\u001b[0;34m)\u001b[0m\u001b[0;34m\u001b[0m\u001b[0;34m\u001b[0m\u001b[0m\n\u001b[1;32m     94\u001b[0m         \u001b[0;32melif\u001b[0m \u001b[0mhow\u001b[0m\u001b[0;34m:\u001b[0m\u001b[0;34m\u001b[0m\u001b[0;34m\u001b[0m\u001b[0m\n\u001b[0;32m---> 95\u001b[0;31m             \u001b[0mobj\u001b[0m \u001b[0;34m=\u001b[0m \u001b[0mdata\u001b[0m\u001b[0;34m.\u001b[0m\u001b[0mwrap_output\u001b[0m\u001b[0;34m(\u001b[0m\u001b[0mfunc\u001b[0m\u001b[0;34m(\u001b[0m\u001b[0mresults\u001b[0m\u001b[0;34m,\u001b[0m \u001b[0;34m*\u001b[0m\u001b[0margs\u001b[0m\u001b[0;34m,\u001b[0m \u001b[0;34m**\u001b[0m\u001b[0mkwargs\u001b[0m\u001b[0;34m)\u001b[0m\u001b[0;34m,\u001b[0m \u001b[0mhow\u001b[0m\u001b[0;34m)\u001b[0m\u001b[0;34m\u001b[0m\u001b[0;34m\u001b[0m\u001b[0m\n\u001b[0m\u001b[1;32m     96\u001b[0m         \u001b[0;32mreturn\u001b[0m \u001b[0mobj\u001b[0m\u001b[0;34m\u001b[0m\u001b[0;34m\u001b[0m\u001b[0m\n\u001b[1;32m     97\u001b[0m \u001b[0;34m\u001b[0m\u001b[0m\n",
            "\u001b[0;32m/usr/local/lib/python3.7/dist-packages/statsmodels/tsa/arima_model.py\u001b[0m in \u001b[0;36mpredict\u001b[0;34m(self, start, end, exog, typ, dynamic)\u001b[0m\n\u001b[1;32m   1816\u001b[0m     def predict(self, start=None, end=None, exog=None, typ='linear',\n\u001b[1;32m   1817\u001b[0m                 dynamic=False):\n\u001b[0;32m-> 1818\u001b[0;31m         \u001b[0;32mreturn\u001b[0m \u001b[0mself\u001b[0m\u001b[0;34m.\u001b[0m\u001b[0mmodel\u001b[0m\u001b[0;34m.\u001b[0m\u001b[0mpredict\u001b[0m\u001b[0;34m(\u001b[0m\u001b[0mself\u001b[0m\u001b[0;34m.\u001b[0m\u001b[0mparams\u001b[0m\u001b[0;34m,\u001b[0m \u001b[0mstart\u001b[0m\u001b[0;34m,\u001b[0m \u001b[0mend\u001b[0m\u001b[0;34m,\u001b[0m \u001b[0mexog\u001b[0m\u001b[0;34m,\u001b[0m \u001b[0mtyp\u001b[0m\u001b[0;34m,\u001b[0m \u001b[0mdynamic\u001b[0m\u001b[0;34m)\u001b[0m\u001b[0;34m\u001b[0m\u001b[0;34m\u001b[0m\u001b[0m\n\u001b[0m\u001b[1;32m   1819\u001b[0m     \u001b[0mpredict\u001b[0m\u001b[0;34m.\u001b[0m\u001b[0m__doc__\u001b[0m \u001b[0;34m=\u001b[0m \u001b[0m_arima_results_predict\u001b[0m\u001b[0;34m\u001b[0m\u001b[0;34m\u001b[0m\u001b[0m\n\u001b[1;32m   1820\u001b[0m \u001b[0;34m\u001b[0m\u001b[0m\n",
            "\u001b[0;32m/usr/local/lib/python3.7/dist-packages/statsmodels/tsa/arima_model.py\u001b[0m in \u001b[0;36mpredict\u001b[0;34m(self, params, start, end, exog, typ, dynamic)\u001b[0m\n\u001b[1;32m   1163\u001b[0m         \u001b[0;32mif\u001b[0m \u001b[0misinstance\u001b[0m\u001b[0;34m(\u001b[0m\u001b[0mstart\u001b[0m\u001b[0;34m,\u001b[0m \u001b[0;34m(\u001b[0m\u001b[0mstring_types\u001b[0m\u001b[0;34m,\u001b[0m \u001b[0mdatetime\u001b[0m\u001b[0;34m)\u001b[0m\u001b[0;34m)\u001b[0m\u001b[0;34m:\u001b[0m\u001b[0;34m\u001b[0m\u001b[0;34m\u001b[0m\u001b[0m\n\u001b[1;32m   1164\u001b[0m             \u001b[0;31m# start = _index_date(start, self.data.dates)\u001b[0m\u001b[0;34m\u001b[0m\u001b[0;34m\u001b[0m\u001b[0;34m\u001b[0m\u001b[0m\n\u001b[0;32m-> 1165\u001b[0;31m             \u001b[0mstart\u001b[0m\u001b[0;34m,\u001b[0m \u001b[0m_\u001b[0m\u001b[0;34m,\u001b[0m \u001b[0m_\u001b[0m \u001b[0;34m=\u001b[0m \u001b[0mself\u001b[0m\u001b[0;34m.\u001b[0m\u001b[0m_get_index_label_loc\u001b[0m\u001b[0;34m(\u001b[0m\u001b[0mstart\u001b[0m\u001b[0;34m)\u001b[0m\u001b[0;34m\u001b[0m\u001b[0;34m\u001b[0m\u001b[0m\n\u001b[0m\u001b[1;32m   1166\u001b[0m             \u001b[0;32mif\u001b[0m \u001b[0misinstance\u001b[0m\u001b[0;34m(\u001b[0m\u001b[0mstart\u001b[0m\u001b[0;34m,\u001b[0m \u001b[0mslice\u001b[0m\u001b[0;34m)\u001b[0m\u001b[0;34m:\u001b[0m\u001b[0;34m\u001b[0m\u001b[0;34m\u001b[0m\u001b[0m\n\u001b[1;32m   1167\u001b[0m                 \u001b[0mstart\u001b[0m \u001b[0;34m=\u001b[0m \u001b[0mstart\u001b[0m\u001b[0;34m.\u001b[0m\u001b[0mstart\u001b[0m\u001b[0;34m\u001b[0m\u001b[0;34m\u001b[0m\u001b[0m\n",
            "\u001b[0;32m/usr/local/lib/python3.7/dist-packages/statsmodels/tsa/base/tsa_model.py\u001b[0m in \u001b[0;36m_get_index_label_loc\u001b[0;34m(self, key, base_index)\u001b[0m\n\u001b[1;32m    456\u001b[0m                 \u001b[0mindex_was_expanded\u001b[0m \u001b[0;34m=\u001b[0m \u001b[0;32mFalse\u001b[0m\u001b[0;34m\u001b[0m\u001b[0;34m\u001b[0m\u001b[0m\n\u001b[1;32m    457\u001b[0m             \u001b[0;32mexcept\u001b[0m\u001b[0;34m:\u001b[0m\u001b[0;34m\u001b[0m\u001b[0;34m\u001b[0m\u001b[0m\n\u001b[0;32m--> 458\u001b[0;31m                 \u001b[0;32mraise\u001b[0m \u001b[0me\u001b[0m\u001b[0;34m\u001b[0m\u001b[0;34m\u001b[0m\u001b[0m\n\u001b[0m\u001b[1;32m    459\u001b[0m         \u001b[0;32mreturn\u001b[0m \u001b[0mloc\u001b[0m\u001b[0;34m,\u001b[0m \u001b[0mindex\u001b[0m\u001b[0;34m,\u001b[0m \u001b[0mindex_was_expanded\u001b[0m\u001b[0;34m\u001b[0m\u001b[0;34m\u001b[0m\u001b[0m\n\u001b[1;32m    460\u001b[0m \u001b[0;34m\u001b[0m\u001b[0m\n",
            "\u001b[0;32m/usr/local/lib/python3.7/dist-packages/statsmodels/tsa/base/tsa_model.py\u001b[0m in \u001b[0;36m_get_index_label_loc\u001b[0;34m(self, key, base_index)\u001b[0m\n\u001b[1;32m    420\u001b[0m         \u001b[0;32mtry\u001b[0m\u001b[0;34m:\u001b[0m\u001b[0;34m\u001b[0m\u001b[0;34m\u001b[0m\u001b[0m\n\u001b[1;32m    421\u001b[0m             loc, index, index_was_expanded = (\n\u001b[0;32m--> 422\u001b[0;31m                 self._get_index_loc(key, base_index))\n\u001b[0m\u001b[1;32m    423\u001b[0m         \u001b[0;32mexcept\u001b[0m \u001b[0mKeyError\u001b[0m \u001b[0;32mas\u001b[0m \u001b[0me\u001b[0m\u001b[0;34m:\u001b[0m\u001b[0;34m\u001b[0m\u001b[0;34m\u001b[0m\u001b[0m\n\u001b[1;32m    424\u001b[0m             \u001b[0;32mtry\u001b[0m\u001b[0;34m:\u001b[0m\u001b[0;34m\u001b[0m\u001b[0;34m\u001b[0m\u001b[0m\n",
            "\u001b[0;32m/usr/local/lib/python3.7/dist-packages/statsmodels/tsa/base/tsa_model.py\u001b[0m in \u001b[0;36m_get_index_loc\u001b[0;34m(self, key, base_index)\u001b[0m\n\u001b[1;32m    370\u001b[0m             \u001b[0;31m#   (as of Pandas 0.22)\u001b[0m\u001b[0;34m\u001b[0m\u001b[0;34m\u001b[0m\u001b[0;34m\u001b[0m\u001b[0m\n\u001b[1;32m    371\u001b[0m             \u001b[0;32mexcept\u001b[0m \u001b[0;34m(\u001b[0m\u001b[0mIndexError\u001b[0m\u001b[0;34m,\u001b[0m \u001b[0mValueError\u001b[0m\u001b[0;34m)\u001b[0m \u001b[0;32mas\u001b[0m \u001b[0me\u001b[0m\u001b[0;34m:\u001b[0m\u001b[0;34m\u001b[0m\u001b[0;34m\u001b[0m\u001b[0m\n\u001b[0;32m--> 372\u001b[0;31m                 \u001b[0;32mraise\u001b[0m \u001b[0mKeyError\u001b[0m\u001b[0;34m(\u001b[0m\u001b[0mstr\u001b[0m\u001b[0;34m(\u001b[0m\u001b[0me\u001b[0m\u001b[0;34m)\u001b[0m\u001b[0;34m)\u001b[0m\u001b[0;34m\u001b[0m\u001b[0;34m\u001b[0m\u001b[0m\n\u001b[0m\u001b[1;32m    373\u001b[0m             \u001b[0mloc\u001b[0m \u001b[0;34m=\u001b[0m \u001b[0mkey\u001b[0m\u001b[0;34m\u001b[0m\u001b[0;34m\u001b[0m\u001b[0m\n\u001b[1;32m    374\u001b[0m         \u001b[0;32melse\u001b[0m\u001b[0;34m:\u001b[0m\u001b[0;34m\u001b[0m\u001b[0;34m\u001b[0m\u001b[0m\n",
            "\u001b[0;31mKeyError\u001b[0m: 'only integers, slices (`:`), ellipsis (`...`), numpy.newaxis (`None`) and integer or boolean arrays are valid indices'"
          ]
        },
        {
          "output_type": "display_data",
          "data": {
            "image/png": "[encoded data removed]",
            "text/plain": [
              "<Figure size 432x288 with 1 Axes>"
            ]
          },
          "metadata": {
            "tags": []
          }
        }
      ]
    },
    {
      "cell_type": "code",
      "metadata": {
        "colab": {
          "base_uri": "https://localhost:8080/"
        },
        "id": "DGdTVp57-igH",
        "outputId": "ea40317d-a0f5-43b9-af51-b231808687a8"
      },
      "source": [
        "predict"
      ],
      "execution_count": null,
      "outputs": [
        {
          "output_type": "execute_result",
          "data": {
            "text/plain": [
              "2021-06-18 12:40:00    0.500696\n",
              "2021-06-18 12:41:00    0.099890\n",
              "2021-06-18 12:42:00    0.232203\n",
              "2021-06-18 12:43:00    0.171860\n",
              "2021-06-18 12:44:00   -0.042440\n",
              "2021-06-18 12:45:00   -0.041105\n",
              "2021-06-18 12:46:00    0.382882\n",
              "2021-06-18 12:47:00    0.000157\n",
              "2021-06-18 12:48:00    0.000787\n",
              "2021-06-18 12:49:00    0.000787\n",
              "2021-06-18 12:50:00    0.000787\n",
              "Freq: T, dtype: float64"
            ]
          },
          "metadata": {
            "tags": []
          },
          "execution_count": 109
        }
      ]
    }
  ]
}